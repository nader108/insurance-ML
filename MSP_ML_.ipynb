{
 "cells": [
  {
   "cell_type": "code",
   "execution_count": 112,
   "id": "a9277f33",
   "metadata": {
    "id": "a9277f33"
   },
   "outputs": [],
   "source": [
    "import pandas as pd\n",
    "import numpy as np\n",
    "import matplotlib.pyplot as plt\n",
    "import seaborn as sns"
   ]
  },
  {
   "cell_type": "code",
   "execution_count": 113,
   "id": "53c2c541",
   "metadata": {
    "colab": {
     "base_uri": "https://localhost:8080/",
     "height": 206
    },
    "id": "53c2c541",
    "outputId": "dbbe05de-ba05-458d-da7a-62898b91472b"
   },
   "outputs": [
    {
     "data": {
      "text/html": [
       "\n",
       "  <div id=\"df-4a728850-670e-4f53-b4af-6d14203161a4\" class=\"colab-df-container\">\n",
       "    <div>\n",
       "<style scoped>\n",
       "    .dataframe tbody tr th:only-of-type {\n",
       "        vertical-align: middle;\n",
       "    }\n",
       "\n",
       "    .dataframe tbody tr th {\n",
       "        vertical-align: top;\n",
       "    }\n",
       "\n",
       "    .dataframe thead th {\n",
       "        text-align: right;\n",
       "    }\n",
       "</style>\n",
       "<table border=\"1\" class=\"dataframe\">\n",
       "  <thead>\n",
       "    <tr style=\"text-align: right;\">\n",
       "      <th></th>\n",
       "      <th>age</th>\n",
       "      <th>sex</th>\n",
       "      <th>bmi</th>\n",
       "      <th>children</th>\n",
       "      <th>smoker</th>\n",
       "      <th>region</th>\n",
       "      <th>charges</th>\n",
       "    </tr>\n",
       "  </thead>\n",
       "  <tbody>\n",
       "    <tr>\n",
       "      <th>0</th>\n",
       "      <td>19</td>\n",
       "      <td>female</td>\n",
       "      <td>27.900</td>\n",
       "      <td>0</td>\n",
       "      <td>yes</td>\n",
       "      <td>southwest</td>\n",
       "      <td>16884.92400</td>\n",
       "    </tr>\n",
       "    <tr>\n",
       "      <th>1</th>\n",
       "      <td>18</td>\n",
       "      <td>male</td>\n",
       "      <td>33.770</td>\n",
       "      <td>1</td>\n",
       "      <td>no</td>\n",
       "      <td>southeast</td>\n",
       "      <td>1725.55230</td>\n",
       "    </tr>\n",
       "    <tr>\n",
       "      <th>2</th>\n",
       "      <td>28</td>\n",
       "      <td>male</td>\n",
       "      <td>33.000</td>\n",
       "      <td>3</td>\n",
       "      <td>no</td>\n",
       "      <td>southeast</td>\n",
       "      <td>4449.46200</td>\n",
       "    </tr>\n",
       "    <tr>\n",
       "      <th>3</th>\n",
       "      <td>33</td>\n",
       "      <td>male</td>\n",
       "      <td>22.705</td>\n",
       "      <td>0</td>\n",
       "      <td>no</td>\n",
       "      <td>northwest</td>\n",
       "      <td>21984.47061</td>\n",
       "    </tr>\n",
       "    <tr>\n",
       "      <th>4</th>\n",
       "      <td>32</td>\n",
       "      <td>male</td>\n",
       "      <td>28.880</td>\n",
       "      <td>0</td>\n",
       "      <td>no</td>\n",
       "      <td>northwest</td>\n",
       "      <td>3866.85520</td>\n",
       "    </tr>\n",
       "  </tbody>\n",
       "</table>\n",
       "</div>\n",
       "    <div class=\"colab-df-buttons\">\n",
       "\n",
       "  <div class=\"colab-df-container\">\n",
       "    <button class=\"colab-df-convert\" onclick=\"convertToInteractive('df-4a728850-670e-4f53-b4af-6d14203161a4')\"\n",
       "            title=\"Convert this dataframe to an interactive table.\"\n",
       "            style=\"display:none;\">\n",
       "\n",
       "  <svg xmlns=\"http://www.w3.org/2000/svg\" height=\"24px\" viewBox=\"0 -960 960 960\">\n",
       "    <path d=\"M120-120v-720h720v720H120Zm60-500h600v-160H180v160Zm220 220h160v-160H400v160Zm0 220h160v-160H400v160ZM180-400h160v-160H180v160Zm440 0h160v-160H620v160ZM180-180h160v-160H180v160Zm440 0h160v-160H620v160Z\"/>\n",
       "  </svg>\n",
       "    </button>\n",
       "\n",
       "  <style>\n",
       "    .colab-df-container {\n",
       "      display:flex;\n",
       "      gap: 12px;\n",
       "    }\n",
       "\n",
       "    .colab-df-convert {\n",
       "      background-color: #E8F0FE;\n",
       "      border: none;\n",
       "      border-radius: 50%;\n",
       "      cursor: pointer;\n",
       "      display: none;\n",
       "      fill: #1967D2;\n",
       "      height: 32px;\n",
       "      padding: 0 0 0 0;\n",
       "      width: 32px;\n",
       "    }\n",
       "\n",
       "    .colab-df-convert:hover {\n",
       "      background-color: #E2EBFA;\n",
       "      box-shadow: 0px 1px 2px rgba(60, 64, 67, 0.3), 0px 1px 3px 1px rgba(60, 64, 67, 0.15);\n",
       "      fill: #174EA6;\n",
       "    }\n",
       "\n",
       "    .colab-df-buttons div {\n",
       "      margin-bottom: 4px;\n",
       "    }\n",
       "\n",
       "    [theme=dark] .colab-df-convert {\n",
       "      background-color: #3B4455;\n",
       "      fill: #D2E3FC;\n",
       "    }\n",
       "\n",
       "    [theme=dark] .colab-df-convert:hover {\n",
       "      background-color: #434B5C;\n",
       "      box-shadow: 0px 1px 3px 1px rgba(0, 0, 0, 0.15);\n",
       "      filter: drop-shadow(0px 1px 2px rgba(0, 0, 0, 0.3));\n",
       "      fill: #FFFFFF;\n",
       "    }\n",
       "  </style>\n",
       "\n",
       "    <script>\n",
       "      const buttonEl =\n",
       "        document.querySelector('#df-4a728850-670e-4f53-b4af-6d14203161a4 button.colab-df-convert');\n",
       "      buttonEl.style.display =\n",
       "        google.colab.kernel.accessAllowed ? 'block' : 'none';\n",
       "\n",
       "      async function convertToInteractive(key) {\n",
       "        const element = document.querySelector('#df-4a728850-670e-4f53-b4af-6d14203161a4');\n",
       "        const dataTable =\n",
       "          await google.colab.kernel.invokeFunction('convertToInteractive',\n",
       "                                                    [key], {});\n",
       "        if (!dataTable) return;\n",
       "\n",
       "        const docLinkHtml = 'Like what you see? Visit the ' +\n",
       "          '<a target=\"_blank\" href=https://colab.research.google.com/notebooks/data_table.ipynb>data table notebook</a>'\n",
       "          + ' to learn more about interactive tables.';\n",
       "        element.innerHTML = '';\n",
       "        dataTable['output_type'] = 'display_data';\n",
       "        await google.colab.output.renderOutput(dataTable, element);\n",
       "        const docLink = document.createElement('div');\n",
       "        docLink.innerHTML = docLinkHtml;\n",
       "        element.appendChild(docLink);\n",
       "      }\n",
       "    </script>\n",
       "  </div>\n",
       "\n",
       "\n",
       "<div id=\"df-dffbdf93-c8e4-4f0b-85c7-805a776dc417\">\n",
       "  <button class=\"colab-df-quickchart\" onclick=\"quickchart('df-dffbdf93-c8e4-4f0b-85c7-805a776dc417')\"\n",
       "            title=\"Suggest charts\"\n",
       "            style=\"display:none;\">\n",
       "\n",
       "<svg xmlns=\"http://www.w3.org/2000/svg\" height=\"24px\"viewBox=\"0 0 24 24\"\n",
       "     width=\"24px\">\n",
       "    <g>\n",
       "        <path d=\"M19 3H5c-1.1 0-2 .9-2 2v14c0 1.1.9 2 2 2h14c1.1 0 2-.9 2-2V5c0-1.1-.9-2-2-2zM9 17H7v-7h2v7zm4 0h-2V7h2v10zm4 0h-2v-4h2v4z\"/>\n",
       "    </g>\n",
       "</svg>\n",
       "  </button>\n",
       "\n",
       "<style>\n",
       "  .colab-df-quickchart {\n",
       "      --bg-color: #E8F0FE;\n",
       "      --fill-color: #1967D2;\n",
       "      --hover-bg-color: #E2EBFA;\n",
       "      --hover-fill-color: #174EA6;\n",
       "      --disabled-fill-color: #AAA;\n",
       "      --disabled-bg-color: #DDD;\n",
       "  }\n",
       "\n",
       "  [theme=dark] .colab-df-quickchart {\n",
       "      --bg-color: #3B4455;\n",
       "      --fill-color: #D2E3FC;\n",
       "      --hover-bg-color: #434B5C;\n",
       "      --hover-fill-color: #FFFFFF;\n",
       "      --disabled-bg-color: #3B4455;\n",
       "      --disabled-fill-color: #666;\n",
       "  }\n",
       "\n",
       "  .colab-df-quickchart {\n",
       "    background-color: var(--bg-color);\n",
       "    border: none;\n",
       "    border-radius: 50%;\n",
       "    cursor: pointer;\n",
       "    display: none;\n",
       "    fill: var(--fill-color);\n",
       "    height: 32px;\n",
       "    padding: 0;\n",
       "    width: 32px;\n",
       "  }\n",
       "\n",
       "  .colab-df-quickchart:hover {\n",
       "    background-color: var(--hover-bg-color);\n",
       "    box-shadow: 0 1px 2px rgba(60, 64, 67, 0.3), 0 1px 3px 1px rgba(60, 64, 67, 0.15);\n",
       "    fill: var(--button-hover-fill-color);\n",
       "  }\n",
       "\n",
       "  .colab-df-quickchart-complete:disabled,\n",
       "  .colab-df-quickchart-complete:disabled:hover {\n",
       "    background-color: var(--disabled-bg-color);\n",
       "    fill: var(--disabled-fill-color);\n",
       "    box-shadow: none;\n",
       "  }\n",
       "\n",
       "  .colab-df-spinner {\n",
       "    border: 2px solid var(--fill-color);\n",
       "    border-color: transparent;\n",
       "    border-bottom-color: var(--fill-color);\n",
       "    animation:\n",
       "      spin 1s steps(1) infinite;\n",
       "  }\n",
       "\n",
       "  @keyframes spin {\n",
       "    0% {\n",
       "      border-color: transparent;\n",
       "      border-bottom-color: var(--fill-color);\n",
       "      border-left-color: var(--fill-color);\n",
       "    }\n",
       "    20% {\n",
       "      border-color: transparent;\n",
       "      border-left-color: var(--fill-color);\n",
       "      border-top-color: var(--fill-color);\n",
       "    }\n",
       "    30% {\n",
       "      border-color: transparent;\n",
       "      border-left-color: var(--fill-color);\n",
       "      border-top-color: var(--fill-color);\n",
       "      border-right-color: var(--fill-color);\n",
       "    }\n",
       "    40% {\n",
       "      border-color: transparent;\n",
       "      border-right-color: var(--fill-color);\n",
       "      border-top-color: var(--fill-color);\n",
       "    }\n",
       "    60% {\n",
       "      border-color: transparent;\n",
       "      border-right-color: var(--fill-color);\n",
       "    }\n",
       "    80% {\n",
       "      border-color: transparent;\n",
       "      border-right-color: var(--fill-color);\n",
       "      border-bottom-color: var(--fill-color);\n",
       "    }\n",
       "    90% {\n",
       "      border-color: transparent;\n",
       "      border-bottom-color: var(--fill-color);\n",
       "    }\n",
       "  }\n",
       "</style>\n",
       "\n",
       "  <script>\n",
       "    async function quickchart(key) {\n",
       "      const quickchartButtonEl =\n",
       "        document.querySelector('#' + key + ' button');\n",
       "      quickchartButtonEl.disabled = true;  // To prevent multiple clicks.\n",
       "      quickchartButtonEl.classList.add('colab-df-spinner');\n",
       "      try {\n",
       "        const charts = await google.colab.kernel.invokeFunction(\n",
       "            'suggestCharts', [key], {});\n",
       "      } catch (error) {\n",
       "        console.error('Error during call to suggestCharts:', error);\n",
       "      }\n",
       "      quickchartButtonEl.classList.remove('colab-df-spinner');\n",
       "      quickchartButtonEl.classList.add('colab-df-quickchart-complete');\n",
       "    }\n",
       "    (() => {\n",
       "      let quickchartButtonEl =\n",
       "        document.querySelector('#df-dffbdf93-c8e4-4f0b-85c7-805a776dc417 button');\n",
       "      quickchartButtonEl.style.display =\n",
       "        google.colab.kernel.accessAllowed ? 'block' : 'none';\n",
       "    })();\n",
       "  </script>\n",
       "</div>\n",
       "\n",
       "    </div>\n",
       "  </div>\n"
      ],
      "text/plain": [
       "   age     sex     bmi  children smoker     region      charges\n",
       "0   19  female  27.900         0    yes  southwest  16884.92400\n",
       "1   18    male  33.770         1     no  southeast   1725.55230\n",
       "2   28    male  33.000         3     no  southeast   4449.46200\n",
       "3   33    male  22.705         0     no  northwest  21984.47061\n",
       "4   32    male  28.880         0     no  northwest   3866.85520"
      ]
     },
     "execution_count": 113,
     "metadata": {},
     "output_type": "execute_result"
    }
   ],
   "source": [
    "df=pd.read_csv(\"insurance.csv\")\n",
    "df.head()"
   ]
  },
  {
   "cell_type": "code",
   "execution_count": 114,
   "id": "26602dda",
   "metadata": {
    "colab": {
     "base_uri": "https://localhost:8080/"
    },
    "id": "26602dda",
    "outputId": "ccd7c8e4-797a-457a-dd5c-95a925d0a30b"
   },
   "outputs": [
    {
     "name": "stdout",
     "output_type": "stream",
     "text": [
      "there are rows 1338 and 7 columns\n"
     ]
    }
   ],
   "source": [
    "print(f\"there are rows {df.shape[0]} and {df.shape[1]} columns\")"
   ]
  },
  {
   "cell_type": "code",
   "execution_count": 115,
   "id": "5c7a2cc3",
   "metadata": {
    "colab": {
     "base_uri": "https://localhost:8080/"
    },
    "id": "5c7a2cc3",
    "outputId": "916eb936-138e-4acd-fd00-a56e319e78bb"
   },
   "outputs": [
    {
     "name": "stdout",
     "output_type": "stream",
     "text": [
      "<class 'pandas.core.frame.DataFrame'>\n",
      "RangeIndex: 1338 entries, 0 to 1337\n",
      "Data columns (total 7 columns):\n",
      " #   Column    Non-Null Count  Dtype  \n",
      "---  ------    --------------  -----  \n",
      " 0   age       1338 non-null   int64  \n",
      " 1   sex       1338 non-null   object \n",
      " 2   bmi       1338 non-null   float64\n",
      " 3   children  1338 non-null   int64  \n",
      " 4   smoker    1338 non-null   object \n",
      " 5   region    1338 non-null   object \n",
      " 6   charges   1338 non-null   float64\n",
      "dtypes: float64(2), int64(2), object(3)\n",
      "memory usage: 73.3+ KB\n"
     ]
    }
   ],
   "source": [
    "df.info()"
   ]
  },
  {
   "cell_type": "code",
   "execution_count": 116,
   "id": "08a1a2fe",
   "metadata": {
    "colab": {
     "base_uri": "https://localhost:8080/"
    },
    "id": "08a1a2fe",
    "outputId": "3e188b88-4e7a-412f-d7d7-c755d1eee849"
   },
   "outputs": [
    {
     "data": {
      "text/plain": [
       "age         0\n",
       "sex         0\n",
       "bmi         0\n",
       "children    0\n",
       "smoker      0\n",
       "region      0\n",
       "charges     0\n",
       "dtype: int64"
      ]
     },
     "execution_count": 116,
     "metadata": {},
     "output_type": "execute_result"
    }
   ],
   "source": [
    "df.isna().sum()"
   ]
  },
  {
   "cell_type": "code",
   "execution_count": 117,
   "id": "39bf1bc1",
   "metadata": {
    "colab": {
     "base_uri": "https://localhost:8080/"
    },
    "id": "39bf1bc1",
    "outputId": "054a8d3f-b432-4e9f-f3b0-d23d7837a61f"
   },
   "outputs": [
    {
     "data": {
      "text/plain": [
       "1"
      ]
     },
     "execution_count": 117,
     "metadata": {},
     "output_type": "execute_result"
    }
   ],
   "source": [
    "df.duplicated().sum()"
   ]
  },
  {
   "cell_type": "code",
   "execution_count": 118,
   "id": "13414c4c",
   "metadata": {
    "id": "13414c4c"
   },
   "outputs": [],
   "source": [
    "df.drop_duplicates(inplace=True)"
   ]
  },
  {
   "cell_type": "code",
   "execution_count": 119,
   "id": "db75edb0",
   "metadata": {
    "colab": {
     "base_uri": "https://localhost:8080/",
     "height": 300
    },
    "id": "db75edb0",
    "outputId": "2fc2a754-73e6-4820-bae4-b57674518b1c"
   },
   "outputs": [
    {
     "data": {
      "text/html": [
       "\n",
       "  <div id=\"df-e005bdaf-0686-4b94-b11a-3fd130e35969\" class=\"colab-df-container\">\n",
       "    <div>\n",
       "<style scoped>\n",
       "    .dataframe tbody tr th:only-of-type {\n",
       "        vertical-align: middle;\n",
       "    }\n",
       "\n",
       "    .dataframe tbody tr th {\n",
       "        vertical-align: top;\n",
       "    }\n",
       "\n",
       "    .dataframe thead th {\n",
       "        text-align: right;\n",
       "    }\n",
       "</style>\n",
       "<table border=\"1\" class=\"dataframe\">\n",
       "  <thead>\n",
       "    <tr style=\"text-align: right;\">\n",
       "      <th></th>\n",
       "      <th>age</th>\n",
       "      <th>bmi</th>\n",
       "      <th>children</th>\n",
       "      <th>charges</th>\n",
       "    </tr>\n",
       "  </thead>\n",
       "  <tbody>\n",
       "    <tr>\n",
       "      <th>count</th>\n",
       "      <td>1337.000000</td>\n",
       "      <td>1337.000000</td>\n",
       "      <td>1337.000000</td>\n",
       "      <td>1337.000000</td>\n",
       "    </tr>\n",
       "    <tr>\n",
       "      <th>mean</th>\n",
       "      <td>39.222139</td>\n",
       "      <td>30.663452</td>\n",
       "      <td>1.095737</td>\n",
       "      <td>13279.121487</td>\n",
       "    </tr>\n",
       "    <tr>\n",
       "      <th>std</th>\n",
       "      <td>14.044333</td>\n",
       "      <td>6.100468</td>\n",
       "      <td>1.205571</td>\n",
       "      <td>12110.359656</td>\n",
       "    </tr>\n",
       "    <tr>\n",
       "      <th>min</th>\n",
       "      <td>18.000000</td>\n",
       "      <td>15.960000</td>\n",
       "      <td>0.000000</td>\n",
       "      <td>1121.873900</td>\n",
       "    </tr>\n",
       "    <tr>\n",
       "      <th>25%</th>\n",
       "      <td>27.000000</td>\n",
       "      <td>26.290000</td>\n",
       "      <td>0.000000</td>\n",
       "      <td>4746.344000</td>\n",
       "    </tr>\n",
       "    <tr>\n",
       "      <th>50%</th>\n",
       "      <td>39.000000</td>\n",
       "      <td>30.400000</td>\n",
       "      <td>1.000000</td>\n",
       "      <td>9386.161300</td>\n",
       "    </tr>\n",
       "    <tr>\n",
       "      <th>75%</th>\n",
       "      <td>51.000000</td>\n",
       "      <td>34.700000</td>\n",
       "      <td>2.000000</td>\n",
       "      <td>16657.717450</td>\n",
       "    </tr>\n",
       "    <tr>\n",
       "      <th>max</th>\n",
       "      <td>64.000000</td>\n",
       "      <td>53.130000</td>\n",
       "      <td>5.000000</td>\n",
       "      <td>63770.428010</td>\n",
       "    </tr>\n",
       "  </tbody>\n",
       "</table>\n",
       "</div>\n",
       "    <div class=\"colab-df-buttons\">\n",
       "\n",
       "  <div class=\"colab-df-container\">\n",
       "    <button class=\"colab-df-convert\" onclick=\"convertToInteractive('df-e005bdaf-0686-4b94-b11a-3fd130e35969')\"\n",
       "            title=\"Convert this dataframe to an interactive table.\"\n",
       "            style=\"display:none;\">\n",
       "\n",
       "  <svg xmlns=\"http://www.w3.org/2000/svg\" height=\"24px\" viewBox=\"0 -960 960 960\">\n",
       "    <path d=\"M120-120v-720h720v720H120Zm60-500h600v-160H180v160Zm220 220h160v-160H400v160Zm0 220h160v-160H400v160ZM180-400h160v-160H180v160Zm440 0h160v-160H620v160ZM180-180h160v-160H180v160Zm440 0h160v-160H620v160Z\"/>\n",
       "  </svg>\n",
       "    </button>\n",
       "\n",
       "  <style>\n",
       "    .colab-df-container {\n",
       "      display:flex;\n",
       "      gap: 12px;\n",
       "    }\n",
       "\n",
       "    .colab-df-convert {\n",
       "      background-color: #E8F0FE;\n",
       "      border: none;\n",
       "      border-radius: 50%;\n",
       "      cursor: pointer;\n",
       "      display: none;\n",
       "      fill: #1967D2;\n",
       "      height: 32px;\n",
       "      padding: 0 0 0 0;\n",
       "      width: 32px;\n",
       "    }\n",
       "\n",
       "    .colab-df-convert:hover {\n",
       "      background-color: #E2EBFA;\n",
       "      box-shadow: 0px 1px 2px rgba(60, 64, 67, 0.3), 0px 1px 3px 1px rgba(60, 64, 67, 0.15);\n",
       "      fill: #174EA6;\n",
       "    }\n",
       "\n",
       "    .colab-df-buttons div {\n",
       "      margin-bottom: 4px;\n",
       "    }\n",
       "\n",
       "    [theme=dark] .colab-df-convert {\n",
       "      background-color: #3B4455;\n",
       "      fill: #D2E3FC;\n",
       "    }\n",
       "\n",
       "    [theme=dark] .colab-df-convert:hover {\n",
       "      background-color: #434B5C;\n",
       "      box-shadow: 0px 1px 3px 1px rgba(0, 0, 0, 0.15);\n",
       "      filter: drop-shadow(0px 1px 2px rgba(0, 0, 0, 0.3));\n",
       "      fill: #FFFFFF;\n",
       "    }\n",
       "  </style>\n",
       "\n",
       "    <script>\n",
       "      const buttonEl =\n",
       "        document.querySelector('#df-e005bdaf-0686-4b94-b11a-3fd130e35969 button.colab-df-convert');\n",
       "      buttonEl.style.display =\n",
       "        google.colab.kernel.accessAllowed ? 'block' : 'none';\n",
       "\n",
       "      async function convertToInteractive(key) {\n",
       "        const element = document.querySelector('#df-e005bdaf-0686-4b94-b11a-3fd130e35969');\n",
       "        const dataTable =\n",
       "          await google.colab.kernel.invokeFunction('convertToInteractive',\n",
       "                                                    [key], {});\n",
       "        if (!dataTable) return;\n",
       "\n",
       "        const docLinkHtml = 'Like what you see? Visit the ' +\n",
       "          '<a target=\"_blank\" href=https://colab.research.google.com/notebooks/data_table.ipynb>data table notebook</a>'\n",
       "          + ' to learn more about interactive tables.';\n",
       "        element.innerHTML = '';\n",
       "        dataTable['output_type'] = 'display_data';\n",
       "        await google.colab.output.renderOutput(dataTable, element);\n",
       "        const docLink = document.createElement('div');\n",
       "        docLink.innerHTML = docLinkHtml;\n",
       "        element.appendChild(docLink);\n",
       "      }\n",
       "    </script>\n",
       "  </div>\n",
       "\n",
       "\n",
       "<div id=\"df-b4daadc9-d0eb-4279-84cb-84ecd0ccc23b\">\n",
       "  <button class=\"colab-df-quickchart\" onclick=\"quickchart('df-b4daadc9-d0eb-4279-84cb-84ecd0ccc23b')\"\n",
       "            title=\"Suggest charts\"\n",
       "            style=\"display:none;\">\n",
       "\n",
       "<svg xmlns=\"http://www.w3.org/2000/svg\" height=\"24px\"viewBox=\"0 0 24 24\"\n",
       "     width=\"24px\">\n",
       "    <g>\n",
       "        <path d=\"M19 3H5c-1.1 0-2 .9-2 2v14c0 1.1.9 2 2 2h14c1.1 0 2-.9 2-2V5c0-1.1-.9-2-2-2zM9 17H7v-7h2v7zm4 0h-2V7h2v10zm4 0h-2v-4h2v4z\"/>\n",
       "    </g>\n",
       "</svg>\n",
       "  </button>\n",
       "\n",
       "<style>\n",
       "  .colab-df-quickchart {\n",
       "      --bg-color: #E8F0FE;\n",
       "      --fill-color: #1967D2;\n",
       "      --hover-bg-color: #E2EBFA;\n",
       "      --hover-fill-color: #174EA6;\n",
       "      --disabled-fill-color: #AAA;\n",
       "      --disabled-bg-color: #DDD;\n",
       "  }\n",
       "\n",
       "  [theme=dark] .colab-df-quickchart {\n",
       "      --bg-color: #3B4455;\n",
       "      --fill-color: #D2E3FC;\n",
       "      --hover-bg-color: #434B5C;\n",
       "      --hover-fill-color: #FFFFFF;\n",
       "      --disabled-bg-color: #3B4455;\n",
       "      --disabled-fill-color: #666;\n",
       "  }\n",
       "\n",
       "  .colab-df-quickchart {\n",
       "    background-color: var(--bg-color);\n",
       "    border: none;\n",
       "    border-radius: 50%;\n",
       "    cursor: pointer;\n",
       "    display: none;\n",
       "    fill: var(--fill-color);\n",
       "    height: 32px;\n",
       "    padding: 0;\n",
       "    width: 32px;\n",
       "  }\n",
       "\n",
       "  .colab-df-quickchart:hover {\n",
       "    background-color: var(--hover-bg-color);\n",
       "    box-shadow: 0 1px 2px rgba(60, 64, 67, 0.3), 0 1px 3px 1px rgba(60, 64, 67, 0.15);\n",
       "    fill: var(--button-hover-fill-color);\n",
       "  }\n",
       "\n",
       "  .colab-df-quickchart-complete:disabled,\n",
       "  .colab-df-quickchart-complete:disabled:hover {\n",
       "    background-color: var(--disabled-bg-color);\n",
       "    fill: var(--disabled-fill-color);\n",
       "    box-shadow: none;\n",
       "  }\n",
       "\n",
       "  .colab-df-spinner {\n",
       "    border: 2px solid var(--fill-color);\n",
       "    border-color: transparent;\n",
       "    border-bottom-color: var(--fill-color);\n",
       "    animation:\n",
       "      spin 1s steps(1) infinite;\n",
       "  }\n",
       "\n",
       "  @keyframes spin {\n",
       "    0% {\n",
       "      border-color: transparent;\n",
       "      border-bottom-color: var(--fill-color);\n",
       "      border-left-color: var(--fill-color);\n",
       "    }\n",
       "    20% {\n",
       "      border-color: transparent;\n",
       "      border-left-color: var(--fill-color);\n",
       "      border-top-color: var(--fill-color);\n",
       "    }\n",
       "    30% {\n",
       "      border-color: transparent;\n",
       "      border-left-color: var(--fill-color);\n",
       "      border-top-color: var(--fill-color);\n",
       "      border-right-color: var(--fill-color);\n",
       "    }\n",
       "    40% {\n",
       "      border-color: transparent;\n",
       "      border-right-color: var(--fill-color);\n",
       "      border-top-color: var(--fill-color);\n",
       "    }\n",
       "    60% {\n",
       "      border-color: transparent;\n",
       "      border-right-color: var(--fill-color);\n",
       "    }\n",
       "    80% {\n",
       "      border-color: transparent;\n",
       "      border-right-color: var(--fill-color);\n",
       "      border-bottom-color: var(--fill-color);\n",
       "    }\n",
       "    90% {\n",
       "      border-color: transparent;\n",
       "      border-bottom-color: var(--fill-color);\n",
       "    }\n",
       "  }\n",
       "</style>\n",
       "\n",
       "  <script>\n",
       "    async function quickchart(key) {\n",
       "      const quickchartButtonEl =\n",
       "        document.querySelector('#' + key + ' button');\n",
       "      quickchartButtonEl.disabled = true;  // To prevent multiple clicks.\n",
       "      quickchartButtonEl.classList.add('colab-df-spinner');\n",
       "      try {\n",
       "        const charts = await google.colab.kernel.invokeFunction(\n",
       "            'suggestCharts', [key], {});\n",
       "      } catch (error) {\n",
       "        console.error('Error during call to suggestCharts:', error);\n",
       "      }\n",
       "      quickchartButtonEl.classList.remove('colab-df-spinner');\n",
       "      quickchartButtonEl.classList.add('colab-df-quickchart-complete');\n",
       "    }\n",
       "    (() => {\n",
       "      let quickchartButtonEl =\n",
       "        document.querySelector('#df-b4daadc9-d0eb-4279-84cb-84ecd0ccc23b button');\n",
       "      quickchartButtonEl.style.display =\n",
       "        google.colab.kernel.accessAllowed ? 'block' : 'none';\n",
       "    })();\n",
       "  </script>\n",
       "</div>\n",
       "\n",
       "    </div>\n",
       "  </div>\n"
      ],
      "text/plain": [
       "               age          bmi     children       charges\n",
       "count  1337.000000  1337.000000  1337.000000   1337.000000\n",
       "mean     39.222139    30.663452     1.095737  13279.121487\n",
       "std      14.044333     6.100468     1.205571  12110.359656\n",
       "min      18.000000    15.960000     0.000000   1121.873900\n",
       "25%      27.000000    26.290000     0.000000   4746.344000\n",
       "50%      39.000000    30.400000     1.000000   9386.161300\n",
       "75%      51.000000    34.700000     2.000000  16657.717450\n",
       "max      64.000000    53.130000     5.000000  63770.428010"
      ]
     },
     "execution_count": 119,
     "metadata": {},
     "output_type": "execute_result"
    }
   ],
   "source": [
    "df.describe()"
   ]
  },
  {
   "cell_type": "code",
   "execution_count": 120,
   "id": "1c19d865",
   "metadata": {
    "colab": {
     "base_uri": "https://localhost:8080/"
    },
    "id": "1c19d865",
    "outputId": "bad2d249-e1c4-4086-9430-4e4d1b2048bf"
   },
   "outputs": [
    {
     "name": "stdout",
     "output_type": "stream",
     "text": [
      "\n",
      "----------age------------------\n",
      "\n",
      "\n",
      " 18    69\n",
      "19    67\n",
      "50    29\n",
      "51    29\n",
      "47    29\n",
      "46    29\n",
      "45    29\n",
      "20    29\n",
      "48    29\n",
      "52    29\n",
      "22    28\n",
      "49    28\n",
      "54    28\n",
      "53    28\n",
      "21    28\n",
      "26    28\n",
      "24    28\n",
      "25    28\n",
      "28    28\n",
      "27    28\n",
      "23    28\n",
      "43    27\n",
      "29    27\n",
      "30    27\n",
      "41    27\n",
      "42    27\n",
      "44    27\n",
      "31    27\n",
      "40    27\n",
      "32    26\n",
      "33    26\n",
      "56    26\n",
      "34    26\n",
      "55    26\n",
      "57    26\n",
      "37    25\n",
      "59    25\n",
      "58    25\n",
      "36    25\n",
      "38    25\n",
      "35    25\n",
      "39    25\n",
      "61    23\n",
      "60    23\n",
      "63    23\n",
      "62    23\n",
      "64    22\n",
      "Name: age, dtype: int64\n",
      "\n",
      " count    1337.000000\n",
      "mean       39.222139\n",
      "std        14.044333\n",
      "min        18.000000\n",
      "25%        27.000000\n",
      "50%        39.000000\n",
      "75%        51.000000\n",
      "max        64.000000\n",
      "Name: age, dtype: float64 \n",
      "\n",
      "\n",
      "----------sex------------------\n",
      "\n",
      "\n",
      " male      675\n",
      "female    662\n",
      "Name: sex, dtype: int64\n",
      "\n",
      " count     1337\n",
      "unique       2\n",
      "top       male\n",
      "freq       675\n",
      "Name: sex, dtype: object \n",
      "\n",
      "\n",
      "----------bmi------------------\n",
      "\n",
      "\n",
      " 32.30    13\n",
      "28.31     9\n",
      "30.80     8\n",
      "31.35     8\n",
      "28.88     8\n",
      "         ..\n",
      "46.20     1\n",
      "23.80     1\n",
      "44.77     1\n",
      "32.12     1\n",
      "30.97     1\n",
      "Name: bmi, Length: 548, dtype: int64\n",
      "\n",
      " count    1337.000000\n",
      "mean       30.663452\n",
      "std         6.100468\n",
      "min        15.960000\n",
      "25%        26.290000\n",
      "50%        30.400000\n",
      "75%        34.700000\n",
      "max        53.130000\n",
      "Name: bmi, dtype: float64 \n",
      "\n",
      "\n",
      "----------children------------------\n",
      "\n",
      "\n",
      " 0    573\n",
      "1    324\n",
      "2    240\n",
      "3    157\n",
      "4     25\n",
      "5     18\n",
      "Name: children, dtype: int64\n",
      "\n",
      " count    1337.000000\n",
      "mean        1.095737\n",
      "std         1.205571\n",
      "min         0.000000\n",
      "25%         0.000000\n",
      "50%         1.000000\n",
      "75%         2.000000\n",
      "max         5.000000\n",
      "Name: children, dtype: float64 \n",
      "\n",
      "\n",
      "----------smoker------------------\n",
      "\n",
      "\n",
      " no     1063\n",
      "yes     274\n",
      "Name: smoker, dtype: int64\n",
      "\n",
      " count     1337\n",
      "unique       2\n",
      "top         no\n",
      "freq      1063\n",
      "Name: smoker, dtype: object \n",
      "\n",
      "\n",
      "----------region------------------\n",
      "\n",
      "\n",
      " southeast    364\n",
      "southwest    325\n",
      "northwest    324\n",
      "northeast    324\n",
      "Name: region, dtype: int64\n",
      "\n",
      " count          1337\n",
      "unique            4\n",
      "top       southeast\n",
      "freq            364\n",
      "Name: region, dtype: object \n",
      "\n",
      "\n",
      "----------charges------------------\n",
      "\n",
      "\n",
      " 16884.92400    1\n",
      "2117.33885     1\n",
      "2221.56445     1\n",
      "19798.05455    1\n",
      "13063.88300    1\n",
      "              ..\n",
      "7345.08400     1\n",
      "26109.32905    1\n",
      "28287.89766    1\n",
      "1149.39590     1\n",
      "29141.36030    1\n",
      "Name: charges, Length: 1337, dtype: int64\n",
      "\n",
      " count     1337.000000\n",
      "mean     13279.121487\n",
      "std      12110.359656\n",
      "min       1121.873900\n",
      "25%       4746.344000\n",
      "50%       9386.161300\n",
      "75%      16657.717450\n",
      "max      63770.428010\n",
      "Name: charges, dtype: float64 \n",
      "\n"
     ]
    }
   ],
   "source": [
    "for i in df.columns:\n",
    "    print(\"\\n----------\"+i+\"------------------\\n\")\n",
    "    print(\"\\n\",df[i].value_counts())\n",
    "    print(\"\\n\",df[i].describe(),\"\\n\")"
   ]
  },
  {
   "cell_type": "code",
   "execution_count": 121,
   "id": "c44f6544",
   "metadata": {
    "colab": {
     "base_uri": "https://localhost:8080/"
    },
    "id": "c44f6544",
    "outputId": "9f8acb77-f340-4c38-9d42-87ece068f090"
   },
   "outputs": [
    {
     "data": {
      "text/plain": [
       "array(['southwest', 'southeast', 'northwest', 'northeast'], dtype=object)"
      ]
     },
     "execution_count": 121,
     "metadata": {},
     "output_type": "execute_result"
    }
   ],
   "source": [
    "df[\"region\"].unique()"
   ]
  },
  {
   "cell_type": "code",
   "execution_count": 122,
   "id": "b8fa2d56",
   "metadata": {
    "colab": {
     "base_uri": "https://localhost:8080/"
    },
    "id": "b8fa2d56",
    "outputId": "6d6d3798-779c-473d-b899-619b42237b38"
   },
   "outputs": [
    {
     "data": {
      "text/plain": [
       "array(['yes', 'no'], dtype=object)"
      ]
     },
     "execution_count": 122,
     "metadata": {},
     "output_type": "execute_result"
    }
   ],
   "source": [
    "df[\"smoker\"].unique()"
   ]
  },
  {
   "cell_type": "code",
   "execution_count": 123,
   "id": "2eeed719",
   "metadata": {
    "colab": {
     "base_uri": "https://localhost:8080/"
    },
    "id": "2eeed719",
    "outputId": "660f10b4-5bc1-4e21-ee47-8d271e4e28b9"
   },
   "outputs": [
    {
     "data": {
      "text/plain": [
       "array(['female', 'male'], dtype=object)"
      ]
     },
     "execution_count": 123,
     "metadata": {},
     "output_type": "execute_result"
    }
   ],
   "source": [
    "df[\"sex\"].unique()"
   ]
  },
  {
   "cell_type": "markdown",
   "id": "9b697089",
   "metadata": {
    "id": "9b697089"
   },
   "source": [
    " # Visualiation📊"
   ]
  },
  {
   "cell_type": "code",
   "execution_count": 124,
   "id": "76c41273",
   "metadata": {
    "colab": {
     "base_uri": "https://localhost:8080/",
     "height": 450
    },
    "id": "76c41273",
    "outputId": "eabbd834-e4f7-4b9e-dd56-eb8f363b8093"
   },
   "outputs": [
    {
     "data": {
      "image/png": "[encoded data removed]",
      "text/plain": [
       "<Figure size 640x480 with 1 Axes>"
      ]
     },
     "metadata": {},
     "output_type": "display_data"
    }
   ],
   "source": [
    "sns.countplot(x='sex',data=df);"
   ]
  },
  {
   "cell_type": "code",
   "execution_count": 125,
   "id": "401312d4",
   "metadata": {
    "colab": {
     "base_uri": "https://localhost:8080/",
     "height": 449
    },
    "id": "401312d4",
    "outputId": "88666a70-f1fa-4b6f-8531-0aef443acc0a"
   },
   "outputs": [
    {
     "data": {
      "image/png": "[encoded data removed]",
      "text/plain": [
       "<Figure size 640x480 with 1 Axes>"
      ]
     },
     "metadata": {},
     "output_type": "display_data"
    }
   ],
   "source": [
    "sns.countplot(x='sex',data=df,hue='smoker');"
   ]
  },
  {
   "cell_type": "code",
   "execution_count": 126,
   "id": "ef81e099",
   "metadata": {
    "colab": {
     "base_uri": "https://localhost:8080/",
     "height": 449
    },
    "id": "ef81e099",
    "outputId": "22074d64-8cf4-4c7e-d792-13fcf57eb0b6"
   },
   "outputs": [
    {
     "data": {
      "image/png": "[encoded data removed]",
      "text/plain": [
       "<Figure size 640x480 with 1 Axes>"
      ]
     },
     "metadata": {},
     "output_type": "display_data"
    }
   ],
   "source": [
    "sns.countplot(x='region',data=df,hue='smoker');"
   ]
  },
  {
   "cell_type": "code",
   "execution_count": 127,
   "id": "a846e7bd",
   "metadata": {
    "colab": {
     "base_uri": "https://localhost:8080/",
     "height": 699
    },
    "id": "a846e7bd",
    "outputId": "94b5ae59-285d-49ef-ed1a-24ee8673bd77"
   },
   "outputs": [
    {
     "data": {
      "image/png": "[encoded data removed]",
      "text/plain": [
       "<Figure size 900x800 with 4 Axes>"
      ]
     },
     "metadata": {},
     "output_type": "display_data"
    }
   ],
   "source": [
    "df.hist( figsize=(9, 8) ,bins = 30, color='#b0e0e6' ,alpha = 1)\n",
    "plt.show()"
   ]
  },
  {
   "cell_type": "code",
   "execution_count": 128,
   "id": "75ac8202",
   "metadata": {
    "colab": {
     "base_uri": "https://localhost:8080/",
     "height": 333
    },
    "id": "75ac8202",
    "outputId": "9d4fec04-7c4a-436b-b398-16cf22c89a0b"
   },
   "outputs": [
    {
     "data": {
      "image/png": "[encoded data removed]",
      "text/plain": [
       "<Figure size 600x300 with 1 Axes>"
      ]
     },
     "metadata": {},
     "output_type": "display_data"
    }
   ],
   "source": [
    "plt.figure(figsize=(6,3))\n",
    "sns.histplot(df.charges,bins=40)\n",
    "plt.xlabel(\"Frequency\")\n",
    "plt.ylabel(\"charges\")\n",
    "plt.title(\"Distribution of charges\")\n",
    "plt.show()\n"
   ]
  },
  {
   "cell_type": "code",
   "execution_count": 129,
   "id": "3ae2ae2a",
   "metadata": {
    "colab": {
     "base_uri": "https://localhost:8080/",
     "height": 307
    },
    "id": "3ae2ae2a",
    "outputId": "304368c0-1f9e-49b7-e35b-9acdfd86af16"
   },
   "outputs": [
    {
     "data": {
      "image/png": "[encoded data removed]",
      "text/plain": [
       "<Figure size 900x300 with 1 Axes>"
      ]
     },
     "metadata": {},
     "output_type": "display_data"
    }
   ],
   "source": [
    "sns.displot(df['charges'],kde =True,height=3,aspect=3)\n",
    "plt.show()"
   ]
  },
  {
   "cell_type": "code",
   "execution_count": 130,
   "id": "899b2a43",
   "metadata": {
    "colab": {
     "base_uri": "https://localhost:8080/",
     "height": 472
    },
    "id": "899b2a43",
    "outputId": "71e2b9d1-9933-4917-aa5c-6bbc84ddc5ae"
   },
   "outputs": [
    {
     "data": {
      "image/png": "[encoded data removed]",
      "text/plain": [
       "<Figure size 640x480 with 1 Axes>"
      ]
     },
     "metadata": {},
     "output_type": "display_data"
    }
   ],
   "source": [
    "df['log_charges']=np.log1p(df.charges)\n",
    "sns.histplot(df.log_charges,bins=40)\n",
    "plt.xlabel(\"log_charges\")\n",
    "plt.ylabel(\"Frequancy\")\n",
    "plt.title(\"Distribution of  after  charges transformation\")\n",
    "plt.show()"
   ]
  },
  {
   "cell_type": "code",
   "execution_count": 131,
   "id": "80503cdc",
   "metadata": {
    "colab": {
     "base_uri": "https://localhost:8080/"
    },
    "id": "80503cdc",
    "outputId": "7142342e-564d-4bb0-df5d-f27baca329ec"
   },
   "outputs": [
    {
     "data": {
      "text/plain": [
       "1.5153909108403483"
      ]
     },
     "execution_count": 131,
     "metadata": {},
     "output_type": "execute_result"
    }
   ],
   "source": [
    "df.charges.skew()"
   ]
  },
  {
   "cell_type": "code",
   "execution_count": 132,
   "id": "1f21bed3",
   "metadata": {
    "colab": {
     "base_uri": "https://localhost:8080/"
    },
    "id": "1f21bed3",
    "outputId": "099b8499-45c7-4499-d0f6-426b4f408379"
   },
   "outputs": [
    {
     "data": {
      "text/plain": [
       "-0.08955835073325998"
      ]
     },
     "execution_count": 132,
     "metadata": {},
     "output_type": "execute_result"
    }
   ],
   "source": [
    "df.log_charges.skew()"
   ]
  },
  {
   "cell_type": "code",
   "execution_count": 133,
   "id": "5c40088d",
   "metadata": {
    "colab": {
     "base_uri": "https://localhost:8080/",
     "height": 206
    },
    "id": "5c40088d",
    "outputId": "9dad8241-0c4f-4c27-e2eb-89a0d025815f"
   },
   "outputs": [
    {
     "data": {
      "text/html": [
       "\n",
       "  <div id=\"df-665b359f-a579-4149-b280-e8b18ca1fa94\" class=\"colab-df-container\">\n",
       "    <div>\n",
       "<style scoped>\n",
       "    .dataframe tbody tr th:only-of-type {\n",
       "        vertical-align: middle;\n",
       "    }\n",
       "\n",
       "    .dataframe tbody tr th {\n",
       "        vertical-align: top;\n",
       "    }\n",
       "\n",
       "    .dataframe thead th {\n",
       "        text-align: right;\n",
       "    }\n",
       "</style>\n",
       "<table border=\"1\" class=\"dataframe\">\n",
       "  <thead>\n",
       "    <tr style=\"text-align: right;\">\n",
       "      <th></th>\n",
       "      <th>age</th>\n",
       "      <th>bmi</th>\n",
       "      <th>children</th>\n",
       "      <th>charges</th>\n",
       "      <th>log_charges</th>\n",
       "    </tr>\n",
       "  </thead>\n",
       "  <tbody>\n",
       "    <tr>\n",
       "      <th>age</th>\n",
       "      <td>1.000000</td>\n",
       "      <td>0.109344</td>\n",
       "      <td>0.041536</td>\n",
       "      <td>0.298308</td>\n",
       "      <td>0.526900</td>\n",
       "    </tr>\n",
       "    <tr>\n",
       "      <th>bmi</th>\n",
       "      <td>0.109344</td>\n",
       "      <td>1.000000</td>\n",
       "      <td>0.012755</td>\n",
       "      <td>0.198401</td>\n",
       "      <td>0.132831</td>\n",
       "    </tr>\n",
       "    <tr>\n",
       "      <th>children</th>\n",
       "      <td>0.041536</td>\n",
       "      <td>0.012755</td>\n",
       "      <td>1.000000</td>\n",
       "      <td>0.067389</td>\n",
       "      <td>0.160316</td>\n",
       "    </tr>\n",
       "    <tr>\n",
       "      <th>charges</th>\n",
       "      <td>0.298308</td>\n",
       "      <td>0.198401</td>\n",
       "      <td>0.067389</td>\n",
       "      <td>1.000000</td>\n",
       "      <td>0.893116</td>\n",
       "    </tr>\n",
       "    <tr>\n",
       "      <th>log_charges</th>\n",
       "      <td>0.526900</td>\n",
       "      <td>0.132831</td>\n",
       "      <td>0.160316</td>\n",
       "      <td>0.893116</td>\n",
       "      <td>1.000000</td>\n",
       "    </tr>\n",
       "  </tbody>\n",
       "</table>\n",
       "</div>\n",
       "    <div class=\"colab-df-buttons\">\n",
       "\n",
       "  <div class=\"colab-df-container\">\n",
       "    <button class=\"colab-df-convert\" onclick=\"convertToInteractive('df-665b359f-a579-4149-b280-e8b18ca1fa94')\"\n",
       "            title=\"Convert this dataframe to an interactive table.\"\n",
       "            style=\"display:none;\">\n",
       "\n",
       "  <svg xmlns=\"http://www.w3.org/2000/svg\" height=\"24px\" viewBox=\"0 -960 960 960\">\n",
       "    <path d=\"M120-120v-720h720v720H120Zm60-500h600v-160H180v160Zm220 220h160v-160H400v160Zm0 220h160v-160H400v160ZM180-400h160v-160H180v160Zm440 0h160v-160H620v160ZM180-180h160v-160H180v160Zm440 0h160v-160H620v160Z\"/>\n",
       "  </svg>\n",
       "    </button>\n",
       "\n",
       "  <style>\n",
       "    .colab-df-container {\n",
       "      display:flex;\n",
       "      gap: 12px;\n",
       "    }\n",
       "\n",
       "    .colab-df-convert {\n",
       "      background-color: #E8F0FE;\n",
       "      border: none;\n",
       "      border-radius: 50%;\n",
       "      cursor: pointer;\n",
       "      display: none;\n",
       "      fill: #1967D2;\n",
       "      height: 32px;\n",
       "      padding: 0 0 0 0;\n",
       "      width: 32px;\n",
       "    }\n",
       "\n",
       "    .colab-df-convert:hover {\n",
       "      background-color: #E2EBFA;\n",
       "      box-shadow: 0px 1px 2px rgba(60, 64, 67, 0.3), 0px 1px 3px 1px rgba(60, 64, 67, 0.15);\n",
       "      fill: #174EA6;\n",
       "    }\n",
       "\n",
       "    .colab-df-buttons div {\n",
       "      margin-bottom: 4px;\n",
       "    }\n",
       "\n",
       "    [theme=dark] .colab-df-convert {\n",
       "      background-color: #3B4455;\n",
       "      fill: #D2E3FC;\n",
       "    }\n",
       "\n",
       "    [theme=dark] .colab-df-convert:hover {\n",
       "      background-color: #434B5C;\n",
       "      box-shadow: 0px 1px 3px 1px rgba(0, 0, 0, 0.15);\n",
       "      filter: drop-shadow(0px 1px 2px rgba(0, 0, 0, 0.3));\n",
       "      fill: #FFFFFF;\n",
       "    }\n",
       "  </style>\n",
       "\n",
       "    <script>\n",
       "      const buttonEl =\n",
       "        document.querySelector('#df-665b359f-a579-4149-b280-e8b18ca1fa94 button.colab-df-convert');\n",
       "      buttonEl.style.display =\n",
       "        google.colab.kernel.accessAllowed ? 'block' : 'none';\n",
       "\n",
       "      async function convertToInteractive(key) {\n",
       "        const element = document.querySelector('#df-665b359f-a579-4149-b280-e8b18ca1fa94');\n",
       "        const dataTable =\n",
       "          await google.colab.kernel.invokeFunction('convertToInteractive',\n",
       "                                                    [key], {});\n",
       "        if (!dataTable) return;\n",
       "\n",
       "        const docLinkHtml = 'Like what you see? Visit the ' +\n",
       "          '<a target=\"_blank\" href=https://colab.research.google.com/notebooks/data_table.ipynb>data table notebook</a>'\n",
       "          + ' to learn more about interactive tables.';\n",
       "        element.innerHTML = '';\n",
       "        dataTable['output_type'] = 'display_data';\n",
       "        await google.colab.output.renderOutput(dataTable, element);\n",
       "        const docLink = document.createElement('div');\n",
       "        docLink.innerHTML = docLinkHtml;\n",
       "        element.appendChild(docLink);\n",
       "      }\n",
       "    </script>\n",
       "  </div>\n",
       "\n",
       "\n",
       "<div id=\"df-c2e5db81-eb15-4939-9358-4c26bea1da6d\">\n",
       "  <button class=\"colab-df-quickchart\" onclick=\"quickchart('df-c2e5db81-eb15-4939-9358-4c26bea1da6d')\"\n",
       "            title=\"Suggest charts\"\n",
       "            style=\"display:none;\">\n",
       "\n",
       "<svg xmlns=\"http://www.w3.org/2000/svg\" height=\"24px\"viewBox=\"0 0 24 24\"\n",
       "     width=\"24px\">\n",
       "    <g>\n",
       "        <path d=\"M19 3H5c-1.1 0-2 .9-2 2v14c0 1.1.9 2 2 2h14c1.1 0 2-.9 2-2V5c0-1.1-.9-2-2-2zM9 17H7v-7h2v7zm4 0h-2V7h2v10zm4 0h-2v-4h2v4z\"/>\n",
       "    </g>\n",
       "</svg>\n",
       "  </button>\n",
       "\n",
       "<style>\n",
       "  .colab-df-quickchart {\n",
       "      --bg-color: #E8F0FE;\n",
       "      --fill-color: #1967D2;\n",
       "      --hover-bg-color: #E2EBFA;\n",
       "      --hover-fill-color: #174EA6;\n",
       "      --disabled-fill-color: #AAA;\n",
       "      --disabled-bg-color: #DDD;\n",
       "  }\n",
       "\n",
       "  [theme=dark] .colab-df-quickchart {\n",
       "      --bg-color: #3B4455;\n",
       "      --fill-color: #D2E3FC;\n",
       "      --hover-bg-color: #434B5C;\n",
       "      --hover-fill-color: #FFFFFF;\n",
       "      --disabled-bg-color: #3B4455;\n",
       "      --disabled-fill-color: #666;\n",
       "  }\n",
       "\n",
       "  .colab-df-quickchart {\n",
       "    background-color: var(--bg-color);\n",
       "    border: none;\n",
       "    border-radius: 50%;\n",
       "    cursor: pointer;\n",
       "    display: none;\n",
       "    fill: var(--fill-color);\n",
       "    height: 32px;\n",
       "    padding: 0;\n",
       "    width: 32px;\n",
       "  }\n",
       "\n",
       "  .colab-df-quickchart:hover {\n",
       "    background-color: var(--hover-bg-color);\n",
       "    box-shadow: 0 1px 2px rgba(60, 64, 67, 0.3), 0 1px 3px 1px rgba(60, 64, 67, 0.15);\n",
       "    fill: var(--button-hover-fill-color);\n",
       "  }\n",
       "\n",
       "  .colab-df-quickchart-complete:disabled,\n",
       "  .colab-df-quickchart-complete:disabled:hover {\n",
       "    background-color: var(--disabled-bg-color);\n",
       "    fill: var(--disabled-fill-color);\n",
       "    box-shadow: none;\n",
       "  }\n",
       "\n",
       "  .colab-df-spinner {\n",
       "    border: 2px solid var(--fill-color);\n",
       "    border-color: transparent;\n",
       "    border-bottom-color: var(--fill-color);\n",
       "    animation:\n",
       "      spin 1s steps(1) infinite;\n",
       "  }\n",
       "\n",
       "  @keyframes spin {\n",
       "    0% {\n",
       "      border-color: transparent;\n",
       "      border-bottom-color: var(--fill-color);\n",
       "      border-left-color: var(--fill-color);\n",
       "    }\n",
       "    20% {\n",
       "      border-color: transparent;\n",
       "      border-left-color: var(--fill-color);\n",
       "      border-top-color: var(--fill-color);\n",
       "    }\n",
       "    30% {\n",
       "      border-color: transparent;\n",
       "      border-left-color: var(--fill-color);\n",
       "      border-top-color: var(--fill-color);\n",
       "      border-right-color: var(--fill-color);\n",
       "    }\n",
       "    40% {\n",
       "      border-color: transparent;\n",
       "      border-right-color: var(--fill-color);\n",
       "      border-top-color: var(--fill-color);\n",
       "    }\n",
       "    60% {\n",
       "      border-color: transparent;\n",
       "      border-right-color: var(--fill-color);\n",
       "    }\n",
       "    80% {\n",
       "      border-color: transparent;\n",
       "      border-right-color: var(--fill-color);\n",
       "      border-bottom-color: var(--fill-color);\n",
       "    }\n",
       "    90% {\n",
       "      border-color: transparent;\n",
       "      border-bottom-color: var(--fill-color);\n",
       "    }\n",
       "  }\n",
       "</style>\n",
       "\n",
       "  <script>\n",
       "    async function quickchart(key) {\n",
       "      const quickchartButtonEl =\n",
       "        document.querySelector('#' + key + ' button');\n",
       "      quickchartButtonEl.disabled = true;  // To prevent multiple clicks.\n",
       "      quickchartButtonEl.classList.add('colab-df-spinner');\n",
       "      try {\n",
       "        const charts = await google.colab.kernel.invokeFunction(\n",
       "            'suggestCharts', [key], {});\n",
       "      } catch (error) {\n",
       "        console.error('Error during call to suggestCharts:', error);\n",
       "      }\n",
       "      quickchartButtonEl.classList.remove('colab-df-spinner');\n",
       "      quickchartButtonEl.classList.add('colab-df-quickchart-complete');\n",
       "    }\n",
       "    (() => {\n",
       "      let quickchartButtonEl =\n",
       "        document.querySelector('#df-c2e5db81-eb15-4939-9358-4c26bea1da6d button');\n",
       "      quickchartButtonEl.style.display =\n",
       "        google.colab.kernel.accessAllowed ? 'block' : 'none';\n",
       "    })();\n",
       "  </script>\n",
       "</div>\n",
       "\n",
       "  <div id=\"id_aa6b7f36-1c8c-49e7-af82-66089fc5ed5a\">\n",
       "    <style>\n",
       "      .colab-df-generate {\n",
       "        background-color: #E8F0FE;\n",
       "        border: none;\n",
       "        border-radius: 50%;\n",
       "        cursor: pointer;\n",
       "        display: none;\n",
       "        fill: #1967D2;\n",
       "        height: 32px;\n",
       "        padding: 0 0 0 0;\n",
       "        width: 32px;\n",
       "      }\n",
       "\n",
       "      .colab-df-generate:hover {\n",
       "        background-color: #E2EBFA;\n",
       "        box-shadow: 0px 1px 2px rgba(60, 64, 67, 0.3), 0px 1px 3px 1px rgba(60, 64, 67, 0.15);\n",
       "        fill: #174EA6;\n",
       "      }\n",
       "\n",
       "      [theme=dark] .colab-df-generate {\n",
       "        background-color: #3B4455;\n",
       "        fill: #D2E3FC;\n",
       "      }\n",
       "\n",
       "      [theme=dark] .colab-df-generate:hover {\n",
       "        background-color: #434B5C;\n",
       "        box-shadow: 0px 1px 3px 1px rgba(0, 0, 0, 0.15);\n",
       "        filter: drop-shadow(0px 1px 2px rgba(0, 0, 0, 0.3));\n",
       "        fill: #FFFFFF;\n",
       "      }\n",
       "    </style>\n",
       "    <button class=\"colab-df-generate\" onclick=\"generateWithVariable('cor')\"\n",
       "            title=\"Generate code using this dataframe.\"\n",
       "            style=\"display:none;\">\n",
       "\n",
       "  <svg xmlns=\"http://www.w3.org/2000/svg\" height=\"24px\"viewBox=\"0 0 24 24\"\n",
       "       width=\"24px\">\n",
       "    <path d=\"M7,19H8.4L18.45,9,17,7.55,7,17.6ZM5,21V16.75L18.45,3.32a2,2,0,0,1,2.83,0l1.4,1.43a1.91,1.91,0,0,1,.58,1.4,1.91,1.91,0,0,1-.58,1.4L9.25,21ZM18.45,9,17,7.55Zm-12,3A5.31,5.31,0,0,0,4.9,8.1,5.31,5.31,0,0,0,1,6.5,5.31,5.31,0,0,0,4.9,4.9,5.31,5.31,0,0,0,6.5,1,5.31,5.31,0,0,0,8.1,4.9,5.31,5.31,0,0,0,12,6.5,5.46,5.46,0,0,0,6.5,12Z\"/>\n",
       "  </svg>\n",
       "    </button>\n",
       "    <script>\n",
       "      (() => {\n",
       "      const buttonEl =\n",
       "        document.querySelector('#id_aa6b7f36-1c8c-49e7-af82-66089fc5ed5a button.colab-df-generate');\n",
       "      buttonEl.style.display =\n",
       "        google.colab.kernel.accessAllowed ? 'block' : 'none';\n",
       "\n",
       "      buttonEl.onclick = () => {\n",
       "        google.colab.notebook.generateWithVariable('cor');\n",
       "      }\n",
       "      })();\n",
       "    </script>\n",
       "  </div>\n",
       "\n",
       "    </div>\n",
       "  </div>\n"
      ],
      "text/plain": [
       "                  age       bmi  children   charges  log_charges\n",
       "age          1.000000  0.109344  0.041536  0.298308     0.526900\n",
       "bmi          0.109344  1.000000  0.012755  0.198401     0.132831\n",
       "children     0.041536  0.012755  1.000000  0.067389     0.160316\n",
       "charges      0.298308  0.198401  0.067389  1.000000     0.893116\n",
       "log_charges  0.526900  0.132831  0.160316  0.893116     1.000000"
      ]
     },
     "execution_count": 133,
     "metadata": {},
     "output_type": "execute_result"
    }
   ],
   "source": [
    "cor= df.select_dtypes(exclude=object).corr()\n",
    "cor"
   ]
  },
  {
   "cell_type": "code",
   "execution_count": 134,
   "id": "04214e8e",
   "metadata": {
    "colab": {
     "base_uri": "https://localhost:8080/",
     "height": 452
    },
    "id": "04214e8e",
    "outputId": "d5450815-ed6e-468d-cbc4-80980ff79755"
   },
   "outputs": [
    {
     "data": {
      "image/png": "[encoded data removed]",
      "text/plain": [
       "<Figure size 640x480 with 2 Axes>"
      ]
     },
     "metadata": {},
     "output_type": "display_data"
    }
   ],
   "source": [
    "sns.heatmap(cor, annot= True, linewidths= 0.5,cmap='Blues')\n",
    "plt.title('Correlation Heatmap')\n",
    "plt.show()"
   ]
  },
  {
   "cell_type": "markdown",
   "id": "648a7dbf",
   "metadata": {
    "id": "648a7dbf"
   },
   "source": [
    "**check outliers**"
   ]
  },
  {
   "cell_type": "code",
   "execution_count": 135,
   "id": "67b59853",
   "metadata": {
    "colab": {
     "base_uri": "https://localhost:8080/",
     "height": 311
    },
    "id": "67b59853",
    "outputId": "87270e61-2e63-4db6-e00c-66b47c850618"
   },
   "outputs": [
    {
     "data": {
      "image/png": "[encoded data removed]",
      "text/plain": [
       "<Figure size 700x300 with 1 Axes>"
      ]
     },
     "metadata": {},
     "output_type": "display_data"
    }
   ],
   "source": [
    "plt.figure(figsize=(7,3))\n",
    "sns.boxplot(x='charges', data=df)\n",
    "plt.show()\n"
   ]
  },
  {
   "cell_type": "code",
   "execution_count": 136,
   "id": "ace4b95f",
   "metadata": {
    "colab": {
     "base_uri": "https://localhost:8080/",
     "height": 311
    },
    "id": "ace4b95f",
    "outputId": "8b83d55c-5fd1-40e3-e241-7240088f0090"
   },
   "outputs": [
    {
     "data": {
      "image/png": "[encoded data removed]",
      "text/plain": [
       "<Figure size 700x300 with 1 Axes>"
      ]
     },
     "metadata": {},
     "output_type": "display_data"
    }
   ],
   "source": [
    "plt.figure(figsize=(7,3))\n",
    "sns.boxplot(x='charges', data=df)\n",
    "plt.show()\n"
   ]
  },
  {
   "cell_type": "code",
   "execution_count": 137,
   "id": "e16c315c",
   "metadata": {
    "colab": {
     "base_uri": "https://localhost:8080/",
     "height": 449
    },
    "id": "e16c315c",
    "outputId": "ce13bf08-3a0f-4fb2-e5d9-13810dc31bff"
   },
   "outputs": [
    {
     "data": {
      "image/png": "[encoded data removed]",
      "text/plain": [
       "<Figure size 640x480 with 1 Axes>"
      ]
     },
     "metadata": {},
     "output_type": "display_data"
    }
   ],
   "source": [
    "sns.boxplot(x='bmi', data=df);"
   ]
  },
  {
   "cell_type": "markdown",
   "id": "39c41b53",
   "metadata": {
    "id": "39c41b53"
   },
   "source": [
    "**Outliers in bmi and charges**"
   ]
  },
  {
   "cell_type": "code",
   "execution_count": 138,
   "id": "1973690b",
   "metadata": {
    "id": "1973690b"
   },
   "outputs": [],
   "source": [
    "# drop outlier points from 'bmi'.\n",
    "df=df[df['bmi'] <= 46]"
   ]
  },
  {
   "cell_type": "code",
   "execution_count": 139,
   "id": "1a4cc87c",
   "metadata": {
    "colab": {
     "base_uri": "https://localhost:8080/",
     "height": 449
    },
    "id": "1a4cc87c",
    "outputId": "d679166d-081e-4083-8f5e-4517e95515c5"
   },
   "outputs": [
    {
     "data": {
      "image/png": "[encoded data removed]",
      "text/plain": [
       "<Figure size 640x480 with 1 Axes>"
      ]
     },
     "metadata": {},
     "output_type": "display_data"
    }
   ],
   "source": [
    "sns.boxplot(x='bmi', data=df);"
   ]
  },
  {
   "cell_type": "code",
   "execution_count": 140,
   "id": "e036b62d",
   "metadata": {
    "id": "e036b62d"
   },
   "outputs": [],
   "source": [
    "# drop outlier points from 'charges'.\n",
    "df=df[df['charges'] <= 21900]"
   ]
  },
  {
   "cell_type": "code",
   "execution_count": 141,
   "id": "b4662781",
   "metadata": {
    "colab": {
     "base_uri": "https://localhost:8080/",
     "height": 449
    },
    "id": "b4662781",
    "outputId": "50d70c0c-bdd9-4a46-d422-bbfc58d3569a"
   },
   "outputs": [
    {
     "data": {
      "image/png": "[encoded data removed]",
      "text/plain": [
       "<Figure size 640x480 with 1 Axes>"
      ]
     },
     "metadata": {},
     "output_type": "display_data"
    }
   ],
   "source": [
    "sns.boxplot(x='charges', data=df);"
   ]
  },
  {
   "cell_type": "code",
   "execution_count": 142,
   "id": "30bb72d3",
   "metadata": {
    "colab": {
     "base_uri": "https://localhost:8080/",
     "height": 449
    },
    "id": "30bb72d3",
    "outputId": "cd9941de-1840-49c3-db9b-e98958316548"
   },
   "outputs": [
    {
     "data": {
      "image/png": "[encoded data removed]",
      "text/plain": [
       "<Figure size 640x480 with 1 Axes>"
      ]
     },
     "metadata": {},
     "output_type": "display_data"
    }
   ],
   "source": [
    "sns.scatterplot(data= df,x= 'bmi',y= 'charges')\n",
    "plt.show()"
   ]
  },
  {
   "cell_type": "markdown",
   "id": "34eab7c6",
   "metadata": {
    "id": "34eab7c6"
   },
   "source": [
    "another way for one hot encoding\n",
    "#-----------------------------------\n",
    "pd.dummies(df.[\"column_name\"])"
   ]
  },
  {
   "cell_type": "code",
   "execution_count": 142,
   "id": "e95f2e2e",
   "metadata": {
    "id": "e95f2e2e"
   },
   "outputs": [],
   "source": []
  },
  {
   "cell_type": "code",
   "execution_count": 143,
   "id": "6fbfd92a",
   "metadata": {
    "id": "6fbfd92a"
   },
   "outputs": [],
   "source": [
    "#encoding\n",
    "from sklearn.preprocessing import OneHotEncoder"
   ]
  },
  {
   "cell_type": "code",
   "execution_count": 144,
   "id": "a04cfd02",
   "metadata": {
    "id": "a04cfd02"
   },
   "outputs": [],
   "source": [
    "OHE = OneHotEncoder()"
   ]
  },
  {
   "cell_type": "code",
   "execution_count": 145,
   "id": "22ffc01f",
   "metadata": {
    "id": "22ffc01f",
    "scrolled": true
   },
   "outputs": [],
   "source": [
    "feature_array = OHE.fit_transform(df[[\"sex\",\"smoker\", \"region\"]]).toarray()"
   ]
  },
  {
   "cell_type": "code",
   "execution_count": 146,
   "id": "e0f9f1cd",
   "metadata": {
    "id": "e0f9f1cd"
   },
   "outputs": [],
   "source": [
    "feature_labels=OHE.categories_   #the features in(sex,smoker,region)"
   ]
  },
  {
   "cell_type": "code",
   "execution_count": 147,
   "id": "f14c1d13",
   "metadata": {
    "colab": {
     "base_uri": "https://localhost:8080/"
    },
    "id": "f14c1d13",
    "outputId": "7f84885b-4540-4273-dc79-f775b6c6ae97"
   },
   "outputs": [
    {
     "data": {
      "text/plain": [
       "[array(['female', 'male'], dtype=object),\n",
       " array(['no', 'yes'], dtype=object),\n",
       " array(['northeast', 'northwest', 'southeast', 'southwest'], dtype=object)]"
      ]
     },
     "execution_count": 147,
     "metadata": {},
     "output_type": "execute_result"
    }
   ],
   "source": [
    "feature_labels"
   ]
  },
  {
   "cell_type": "code",
   "execution_count": 148,
   "id": "3db0e97c",
   "metadata": {
    "id": "3db0e97c"
   },
   "outputs": [],
   "source": [
    "feature_labels = np.concatenate(feature_labels)#to make them in one array"
   ]
  },
  {
   "cell_type": "code",
   "execution_count": 149,
   "id": "feb45697",
   "metadata": {
    "id": "feb45697"
   },
   "outputs": [],
   "source": [
    "feature_labels=np.array(feature_labels)"
   ]
  },
  {
   "cell_type": "code",
   "execution_count": 150,
   "id": "d50c409b",
   "metadata": {
    "colab": {
     "base_uri": "https://localhost:8080/"
    },
    "id": "d50c409b",
    "outputId": "d409d270-20cc-47cc-b2cb-3d68ac952db6"
   },
   "outputs": [
    {
     "data": {
      "text/plain": [
       "array(['female', 'male', 'no', 'yes', 'northeast', 'northwest',\n",
       "       'southeast', 'southwest'], dtype=object)"
      ]
     },
     "execution_count": 150,
     "metadata": {},
     "output_type": "execute_result"
    }
   ],
   "source": [
    "feature_labels"
   ]
  },
  {
   "cell_type": "code",
   "execution_count": 151,
   "id": "c34dedb5",
   "metadata": {
    "id": "c34dedb5"
   },
   "outputs": [],
   "source": [
    "features=pd.DataFrame(feature_array,columns=feature_labels)"
   ]
  },
  {
   "cell_type": "code",
   "execution_count": 152,
   "id": "abe437d8",
   "metadata": {
    "colab": {
     "base_uri": "https://localhost:8080/",
     "height": 423
    },
    "id": "abe437d8",
    "outputId": "65267af0-5f68-4ee6-f592-9f315ea4e041"
   },
   "outputs": [
    {
     "data": {
      "text/html": [
       "\n",
       "  <div id=\"df-5466ffea-2a75-4332-bb66-6157dd2dddbd\" class=\"colab-df-container\">\n",
       "    <div>\n",
       "<style scoped>\n",
       "    .dataframe tbody tr th:only-of-type {\n",
       "        vertical-align: middle;\n",
       "    }\n",
       "\n",
       "    .dataframe tbody tr th {\n",
       "        vertical-align: top;\n",
       "    }\n",
       "\n",
       "    .dataframe thead th {\n",
       "        text-align: right;\n",
       "    }\n",
       "</style>\n",
       "<table border=\"1\" class=\"dataframe\">\n",
       "  <thead>\n",
       "    <tr style=\"text-align: right;\">\n",
       "      <th></th>\n",
       "      <th>female</th>\n",
       "      <th>male</th>\n",
       "      <th>no</th>\n",
       "      <th>yes</th>\n",
       "      <th>northeast</th>\n",
       "      <th>northwest</th>\n",
       "      <th>southeast</th>\n",
       "      <th>southwest</th>\n",
       "    </tr>\n",
       "  </thead>\n",
       "  <tbody>\n",
       "    <tr>\n",
       "      <th>0</th>\n",
       "      <td>1.0</td>\n",
       "      <td>0.0</td>\n",
       "      <td>0.0</td>\n",
       "      <td>1.0</td>\n",
       "      <td>0.0</td>\n",
       "      <td>0.0</td>\n",
       "      <td>0.0</td>\n",
       "      <td>1.0</td>\n",
       "    </tr>\n",
       "    <tr>\n",
       "      <th>1</th>\n",
       "      <td>0.0</td>\n",
       "      <td>1.0</td>\n",
       "      <td>1.0</td>\n",
       "      <td>0.0</td>\n",
       "      <td>0.0</td>\n",
       "      <td>0.0</td>\n",
       "      <td>1.0</td>\n",
       "      <td>0.0</td>\n",
       "    </tr>\n",
       "    <tr>\n",
       "      <th>2</th>\n",
       "      <td>0.0</td>\n",
       "      <td>1.0</td>\n",
       "      <td>1.0</td>\n",
       "      <td>0.0</td>\n",
       "      <td>0.0</td>\n",
       "      <td>0.0</td>\n",
       "      <td>1.0</td>\n",
       "      <td>0.0</td>\n",
       "    </tr>\n",
       "    <tr>\n",
       "      <th>3</th>\n",
       "      <td>0.0</td>\n",
       "      <td>1.0</td>\n",
       "      <td>1.0</td>\n",
       "      <td>0.0</td>\n",
       "      <td>0.0</td>\n",
       "      <td>1.0</td>\n",
       "      <td>0.0</td>\n",
       "      <td>0.0</td>\n",
       "    </tr>\n",
       "    <tr>\n",
       "      <th>4</th>\n",
       "      <td>1.0</td>\n",
       "      <td>0.0</td>\n",
       "      <td>1.0</td>\n",
       "      <td>0.0</td>\n",
       "      <td>0.0</td>\n",
       "      <td>0.0</td>\n",
       "      <td>1.0</td>\n",
       "      <td>0.0</td>\n",
       "    </tr>\n",
       "    <tr>\n",
       "      <th>...</th>\n",
       "      <td>...</td>\n",
       "      <td>...</td>\n",
       "      <td>...</td>\n",
       "      <td>...</td>\n",
       "      <td>...</td>\n",
       "      <td>...</td>\n",
       "      <td>...</td>\n",
       "      <td>...</td>\n",
       "    </tr>\n",
       "    <tr>\n",
       "      <th>1079</th>\n",
       "      <td>1.0</td>\n",
       "      <td>0.0</td>\n",
       "      <td>1.0</td>\n",
       "      <td>0.0</td>\n",
       "      <td>0.0</td>\n",
       "      <td>0.0</td>\n",
       "      <td>0.0</td>\n",
       "      <td>1.0</td>\n",
       "    </tr>\n",
       "    <tr>\n",
       "      <th>1080</th>\n",
       "      <td>0.0</td>\n",
       "      <td>1.0</td>\n",
       "      <td>1.0</td>\n",
       "      <td>0.0</td>\n",
       "      <td>0.0</td>\n",
       "      <td>1.0</td>\n",
       "      <td>0.0</td>\n",
       "      <td>0.0</td>\n",
       "    </tr>\n",
       "    <tr>\n",
       "      <th>1081</th>\n",
       "      <td>1.0</td>\n",
       "      <td>0.0</td>\n",
       "      <td>1.0</td>\n",
       "      <td>0.0</td>\n",
       "      <td>1.0</td>\n",
       "      <td>0.0</td>\n",
       "      <td>0.0</td>\n",
       "      <td>0.0</td>\n",
       "    </tr>\n",
       "    <tr>\n",
       "      <th>1082</th>\n",
       "      <td>1.0</td>\n",
       "      <td>0.0</td>\n",
       "      <td>1.0</td>\n",
       "      <td>0.0</td>\n",
       "      <td>0.0</td>\n",
       "      <td>0.0</td>\n",
       "      <td>1.0</td>\n",
       "      <td>0.0</td>\n",
       "    </tr>\n",
       "    <tr>\n",
       "      <th>1083</th>\n",
       "      <td>1.0</td>\n",
       "      <td>0.0</td>\n",
       "      <td>1.0</td>\n",
       "      <td>0.0</td>\n",
       "      <td>0.0</td>\n",
       "      <td>0.0</td>\n",
       "      <td>0.0</td>\n",
       "      <td>1.0</td>\n",
       "    </tr>\n",
       "  </tbody>\n",
       "</table>\n",
       "<p>1084 rows × 8 columns</p>\n",
       "</div>\n",
       "    <div class=\"colab-df-buttons\">\n",
       "\n",
       "  <div class=\"colab-df-container\">\n",
       "    <button class=\"colab-df-convert\" onclick=\"convertToInteractive('df-5466ffea-2a75-4332-bb66-6157dd2dddbd')\"\n",
       "            title=\"Convert this dataframe to an interactive table.\"\n",
       "            style=\"display:none;\">\n",
       "\n",
       "  <svg xmlns=\"http://www.w3.org/2000/svg\" height=\"24px\" viewBox=\"0 -960 960 960\">\n",
       "    <path d=\"M120-120v-720h720v720H120Zm60-500h600v-160H180v160Zm220 220h160v-160H400v160Zm0 220h160v-160H400v160ZM180-400h160v-160H180v160Zm440 0h160v-160H620v160ZM180-180h160v-160H180v160Zm440 0h160v-160H620v160Z\"/>\n",
       "  </svg>\n",
       "    </button>\n",
       "\n",
       "  <style>\n",
       "    .colab-df-container {\n",
       "      display:flex;\n",
       "      gap: 12px;\n",
       "    }\n",
       "\n",
       "    .colab-df-convert {\n",
       "      background-color: #E8F0FE;\n",
       "      border: none;\n",
       "      border-radius: 50%;\n",
       "      cursor: pointer;\n",
       "      display: none;\n",
       "      fill: #1967D2;\n",
       "      height: 32px;\n",
       "      padding: 0 0 0 0;\n",
       "      width: 32px;\n",
       "    }\n",
       "\n",
       "    .colab-df-convert:hover {\n",
       "      background-color: #E2EBFA;\n",
       "      box-shadow: 0px 1px 2px rgba(60, 64, 67, 0.3), 0px 1px 3px 1px rgba(60, 64, 67, 0.15);\n",
       "      fill: #174EA6;\n",
       "    }\n",
       "\n",
       "    .colab-df-buttons div {\n",
       "      margin-bottom: 4px;\n",
       "    }\n",
       "\n",
       "    [theme=dark] .colab-df-convert {\n",
       "      background-color: #3B4455;\n",
       "      fill: #D2E3FC;\n",
       "    }\n",
       "\n",
       "    [theme=dark] .colab-df-convert:hover {\n",
       "      background-color: #434B5C;\n",
       "      box-shadow: 0px 1px 3px 1px rgba(0, 0, 0, 0.15);\n",
       "      filter: drop-shadow(0px 1px 2px rgba(0, 0, 0, 0.3));\n",
       "      fill: #FFFFFF;\n",
       "    }\n",
       "  </style>\n",
       "\n",
       "    <script>\n",
       "      const buttonEl =\n",
       "        document.querySelector('#df-5466ffea-2a75-4332-bb66-6157dd2dddbd button.colab-df-convert');\n",
       "      buttonEl.style.display =\n",
       "        google.colab.kernel.accessAllowed ? 'block' : 'none';\n",
       "\n",
       "      async function convertToInteractive(key) {\n",
       "        const element = document.querySelector('#df-5466ffea-2a75-4332-bb66-6157dd2dddbd');\n",
       "        const dataTable =\n",
       "          await google.colab.kernel.invokeFunction('convertToInteractive',\n",
       "                                                    [key], {});\n",
       "        if (!dataTable) return;\n",
       "\n",
       "        const docLinkHtml = 'Like what you see? Visit the ' +\n",
       "          '<a target=\"_blank\" href=https://colab.research.google.com/notebooks/data_table.ipynb>data table notebook</a>'\n",
       "          + ' to learn more about interactive tables.';\n",
       "        element.innerHTML = '';\n",
       "        dataTable['output_type'] = 'display_data';\n",
       "        await google.colab.output.renderOutput(dataTable, element);\n",
       "        const docLink = document.createElement('div');\n",
       "        docLink.innerHTML = docLinkHtml;\n",
       "        element.appendChild(docLink);\n",
       "      }\n",
       "    </script>\n",
       "  </div>\n",
       "\n",
       "\n",
       "<div id=\"df-2cb27f90-59d7-4c5a-92eb-4d65d941e6cd\">\n",
       "  <button class=\"colab-df-quickchart\" onclick=\"quickchart('df-2cb27f90-59d7-4c5a-92eb-4d65d941e6cd')\"\n",
       "            title=\"Suggest charts\"\n",
       "            style=\"display:none;\">\n",
       "\n",
       "<svg xmlns=\"http://www.w3.org/2000/svg\" height=\"24px\"viewBox=\"0 0 24 24\"\n",
       "     width=\"24px\">\n",
       "    <g>\n",
       "        <path d=\"M19 3H5c-1.1 0-2 .9-2 2v14c0 1.1.9 2 2 2h14c1.1 0 2-.9 2-2V5c0-1.1-.9-2-2-2zM9 17H7v-7h2v7zm4 0h-2V7h2v10zm4 0h-2v-4h2v4z\"/>\n",
       "    </g>\n",
       "</svg>\n",
       "  </button>\n",
       "\n",
       "<style>\n",
       "  .colab-df-quickchart {\n",
       "      --bg-color: #E8F0FE;\n",
       "      --fill-color: #1967D2;\n",
       "      --hover-bg-color: #E2EBFA;\n",
       "      --hover-fill-color: #174EA6;\n",
       "      --disabled-fill-color: #AAA;\n",
       "      --disabled-bg-color: #DDD;\n",
       "  }\n",
       "\n",
       "  [theme=dark] .colab-df-quickchart {\n",
       "      --bg-color: #3B4455;\n",
       "      --fill-color: #D2E3FC;\n",
       "      --hover-bg-color: #434B5C;\n",
       "      --hover-fill-color: #FFFFFF;\n",
       "      --disabled-bg-color: #3B4455;\n",
       "      --disabled-fill-color: #666;\n",
       "  }\n",
       "\n",
       "  .colab-df-quickchart {\n",
       "    background-color: var(--bg-color);\n",
       "    border: none;\n",
       "    border-radius: 50%;\n",
       "    cursor: pointer;\n",
       "    display: none;\n",
       "    fill: var(--fill-color);\n",
       "    height: 32px;\n",
       "    padding: 0;\n",
       "    width: 32px;\n",
       "  }\n",
       "\n",
       "  .colab-df-quickchart:hover {\n",
       "    background-color: var(--hover-bg-color);\n",
       "    box-shadow: 0 1px 2px rgba(60, 64, 67, 0.3), 0 1px 3px 1px rgba(60, 64, 67, 0.15);\n",
       "    fill: var(--button-hover-fill-color);\n",
       "  }\n",
       "\n",
       "  .colab-df-quickchart-complete:disabled,\n",
       "  .colab-df-quickchart-complete:disabled:hover {\n",
       "    background-color: var(--disabled-bg-color);\n",
       "    fill: var(--disabled-fill-color);\n",
       "    box-shadow: none;\n",
       "  }\n",
       "\n",
       "  .colab-df-spinner {\n",
       "    border: 2px solid var(--fill-color);\n",
       "    border-color: transparent;\n",
       "    border-bottom-color: var(--fill-color);\n",
       "    animation:\n",
       "      spin 1s steps(1) infinite;\n",
       "  }\n",
       "\n",
       "  @keyframes spin {\n",
       "    0% {\n",
       "      border-color: transparent;\n",
       "      border-bottom-color: var(--fill-color);\n",
       "      border-left-color: var(--fill-color);\n",
       "    }\n",
       "    20% {\n",
       "      border-color: transparent;\n",
       "      border-left-color: var(--fill-color);\n",
       "      border-top-color: var(--fill-color);\n",
       "    }\n",
       "    30% {\n",
       "      border-color: transparent;\n",
       "      border-left-color: var(--fill-color);\n",
       "      border-top-color: var(--fill-color);\n",
       "      border-right-color: var(--fill-color);\n",
       "    }\n",
       "    40% {\n",
       "      border-color: transparent;\n",
       "      border-right-color: var(--fill-color);\n",
       "      border-top-color: var(--fill-color);\n",
       "    }\n",
       "    60% {\n",
       "      border-color: transparent;\n",
       "      border-right-color: var(--fill-color);\n",
       "    }\n",
       "    80% {\n",
       "      border-color: transparent;\n",
       "      border-right-color: var(--fill-color);\n",
       "      border-bottom-color: var(--fill-color);\n",
       "    }\n",
       "    90% {\n",
       "      border-color: transparent;\n",
       "      border-bottom-color: var(--fill-color);\n",
       "    }\n",
       "  }\n",
       "</style>\n",
       "\n",
       "  <script>\n",
       "    async function quickchart(key) {\n",
       "      const quickchartButtonEl =\n",
       "        document.querySelector('#' + key + ' button');\n",
       "      quickchartButtonEl.disabled = true;  // To prevent multiple clicks.\n",
       "      quickchartButtonEl.classList.add('colab-df-spinner');\n",
       "      try {\n",
       "        const charts = await google.colab.kernel.invokeFunction(\n",
       "            'suggestCharts', [key], {});\n",
       "      } catch (error) {\n",
       "        console.error('Error during call to suggestCharts:', error);\n",
       "      }\n",
       "      quickchartButtonEl.classList.remove('colab-df-spinner');\n",
       "      quickchartButtonEl.classList.add('colab-df-quickchart-complete');\n",
       "    }\n",
       "    (() => {\n",
       "      let quickchartButtonEl =\n",
       "        document.querySelector('#df-2cb27f90-59d7-4c5a-92eb-4d65d941e6cd button');\n",
       "      quickchartButtonEl.style.display =\n",
       "        google.colab.kernel.accessAllowed ? 'block' : 'none';\n",
       "    })();\n",
       "  </script>\n",
       "</div>\n",
       "\n",
       "  <div id=\"id_4e781894-780b-4184-9c64-b5237a88f049\">\n",
       "    <style>\n",
       "      .colab-df-generate {\n",
       "        background-color: #E8F0FE;\n",
       "        border: none;\n",
       "        border-radius: 50%;\n",
       "        cursor: pointer;\n",
       "        display: none;\n",
       "        fill: #1967D2;\n",
       "        height: 32px;\n",
       "        padding: 0 0 0 0;\n",
       "        width: 32px;\n",
       "      }\n",
       "\n",
       "      .colab-df-generate:hover {\n",
       "        background-color: #E2EBFA;\n",
       "        box-shadow: 0px 1px 2px rgba(60, 64, 67, 0.3), 0px 1px 3px 1px rgba(60, 64, 67, 0.15);\n",
       "        fill: #174EA6;\n",
       "      }\n",
       "\n",
       "      [theme=dark] .colab-df-generate {\n",
       "        background-color: #3B4455;\n",
       "        fill: #D2E3FC;\n",
       "      }\n",
       "\n",
       "      [theme=dark] .colab-df-generate:hover {\n",
       "        background-color: #434B5C;\n",
       "        box-shadow: 0px 1px 3px 1px rgba(0, 0, 0, 0.15);\n",
       "        filter: drop-shadow(0px 1px 2px rgba(0, 0, 0, 0.3));\n",
       "        fill: #FFFFFF;\n",
       "      }\n",
       "    </style>\n",
       "    <button class=\"colab-df-generate\" onclick=\"generateWithVariable('features')\"\n",
       "            title=\"Generate code using this dataframe.\"\n",
       "            style=\"display:none;\">\n",
       "\n",
       "  <svg xmlns=\"http://www.w3.org/2000/svg\" height=\"24px\"viewBox=\"0 0 24 24\"\n",
       "       width=\"24px\">\n",
       "    <path d=\"M7,19H8.4L18.45,9,17,7.55,7,17.6ZM5,21V16.75L18.45,3.32a2,2,0,0,1,2.83,0l1.4,1.43a1.91,1.91,0,0,1,.58,1.4,1.91,1.91,0,0,1-.58,1.4L9.25,21ZM18.45,9,17,7.55Zm-12,3A5.31,5.31,0,0,0,4.9,8.1,5.31,5.31,0,0,0,1,6.5,5.31,5.31,0,0,0,4.9,4.9,5.31,5.31,0,0,0,6.5,1,5.31,5.31,0,0,0,8.1,4.9,5.31,5.31,0,0,0,12,6.5,5.46,5.46,0,0,0,6.5,12Z\"/>\n",
       "  </svg>\n",
       "    </button>\n",
       "    <script>\n",
       "      (() => {\n",
       "      const buttonEl =\n",
       "        document.querySelector('#id_4e781894-780b-4184-9c64-b5237a88f049 button.colab-df-generate');\n",
       "      buttonEl.style.display =\n",
       "        google.colab.kernel.accessAllowed ? 'block' : 'none';\n",
       "\n",
       "      buttonEl.onclick = () => {\n",
       "        google.colab.notebook.generateWithVariable('features');\n",
       "      }\n",
       "      })();\n",
       "    </script>\n",
       "  </div>\n",
       "\n",
       "    </div>\n",
       "  </div>\n"
      ],
      "text/plain": [
       "      female  male   no  yes  northeast  northwest  southeast  southwest\n",
       "0        1.0   0.0  0.0  1.0        0.0        0.0        0.0        1.0\n",
       "1        0.0   1.0  1.0  0.0        0.0        0.0        1.0        0.0\n",
       "2        0.0   1.0  1.0  0.0        0.0        0.0        1.0        0.0\n",
       "3        0.0   1.0  1.0  0.0        0.0        1.0        0.0        0.0\n",
       "4        1.0   0.0  1.0  0.0        0.0        0.0        1.0        0.0\n",
       "...      ...   ...  ...  ...        ...        ...        ...        ...\n",
       "1079     1.0   0.0  1.0  0.0        0.0        0.0        0.0        1.0\n",
       "1080     0.0   1.0  1.0  0.0        0.0        1.0        0.0        0.0\n",
       "1081     1.0   0.0  1.0  0.0        1.0        0.0        0.0        0.0\n",
       "1082     1.0   0.0  1.0  0.0        0.0        0.0        1.0        0.0\n",
       "1083     1.0   0.0  1.0  0.0        0.0        0.0        0.0        1.0\n",
       "\n",
       "[1084 rows x 8 columns]"
      ]
     },
     "execution_count": 152,
     "metadata": {},
     "output_type": "execute_result"
    }
   ],
   "source": [
    "features"
   ]
  },
  {
   "cell_type": "code",
   "execution_count": 152,
   "id": "24ba484c",
   "metadata": {
    "id": "24ba484c"
   },
   "outputs": [],
   "source": []
  },
  {
   "cell_type": "code",
   "execution_count": 153,
   "id": "opPD5rF7aWRt",
   "metadata": {
    "id": "opPD5rF7aWRt"
   },
   "outputs": [],
   "source": [
    "df = pd.concat([df.reset_index(drop=True), features.reset_index(drop=True)], axis=1)"
   ]
  },
  {
   "cell_type": "code",
   "execution_count": 154,
   "id": "9818ab12",
   "metadata": {
    "id": "9818ab12"
   },
   "outputs": [],
   "source": [
    "df=df.drop(\"sex\",axis=1)\n",
    "df=df.drop(\"smoker\",axis=1)\n",
    "df=df.drop(\"region\",axis=1)"
   ]
  },
  {
   "cell_type": "code",
   "execution_count": 155,
   "id": "9383bfd5",
   "metadata": {
    "colab": {
     "base_uri": "https://localhost:8080/",
     "height": 206
    },
    "id": "9383bfd5",
    "outputId": "3cfb74bf-0103-4783-c3a8-c3e752414f99"
   },
   "outputs": [
    {
     "data": {
      "text/html": [
       "\n",
       "  <div id=\"df-7dbbc71c-101b-4164-a9a7-dda2595630db\" class=\"colab-df-container\">\n",
       "    <div>\n",
       "<style scoped>\n",
       "    .dataframe tbody tr th:only-of-type {\n",
       "        vertical-align: middle;\n",
       "    }\n",
       "\n",
       "    .dataframe tbody tr th {\n",
       "        vertical-align: top;\n",
       "    }\n",
       "\n",
       "    .dataframe thead th {\n",
       "        text-align: right;\n",
       "    }\n",
       "</style>\n",
       "<table border=\"1\" class=\"dataframe\">\n",
       "  <thead>\n",
       "    <tr style=\"text-align: right;\">\n",
       "      <th></th>\n",
       "      <th>age</th>\n",
       "      <th>bmi</th>\n",
       "      <th>children</th>\n",
       "      <th>charges</th>\n",
       "      <th>log_charges</th>\n",
       "      <th>female</th>\n",
       "      <th>male</th>\n",
       "      <th>no</th>\n",
       "      <th>yes</th>\n",
       "      <th>northeast</th>\n",
       "      <th>northwest</th>\n",
       "      <th>southeast</th>\n",
       "      <th>southwest</th>\n",
       "    </tr>\n",
       "  </thead>\n",
       "  <tbody>\n",
       "    <tr>\n",
       "      <th>0</th>\n",
       "      <td>19</td>\n",
       "      <td>27.90</td>\n",
       "      <td>0</td>\n",
       "      <td>16884.9240</td>\n",
       "      <td>9.734236</td>\n",
       "      <td>1.0</td>\n",
       "      <td>0.0</td>\n",
       "      <td>0.0</td>\n",
       "      <td>1.0</td>\n",
       "      <td>0.0</td>\n",
       "      <td>0.0</td>\n",
       "      <td>0.0</td>\n",
       "      <td>1.0</td>\n",
       "    </tr>\n",
       "    <tr>\n",
       "      <th>1</th>\n",
       "      <td>18</td>\n",
       "      <td>33.77</td>\n",
       "      <td>1</td>\n",
       "      <td>1725.5523</td>\n",
       "      <td>7.453882</td>\n",
       "      <td>0.0</td>\n",
       "      <td>1.0</td>\n",
       "      <td>1.0</td>\n",
       "      <td>0.0</td>\n",
       "      <td>0.0</td>\n",
       "      <td>0.0</td>\n",
       "      <td>1.0</td>\n",
       "      <td>0.0</td>\n",
       "    </tr>\n",
       "    <tr>\n",
       "      <th>2</th>\n",
       "      <td>28</td>\n",
       "      <td>33.00</td>\n",
       "      <td>3</td>\n",
       "      <td>4449.4620</td>\n",
       "      <td>8.400763</td>\n",
       "      <td>0.0</td>\n",
       "      <td>1.0</td>\n",
       "      <td>1.0</td>\n",
       "      <td>0.0</td>\n",
       "      <td>0.0</td>\n",
       "      <td>0.0</td>\n",
       "      <td>1.0</td>\n",
       "      <td>0.0</td>\n",
       "    </tr>\n",
       "    <tr>\n",
       "      <th>3</th>\n",
       "      <td>32</td>\n",
       "      <td>28.88</td>\n",
       "      <td>0</td>\n",
       "      <td>3866.8552</td>\n",
       "      <td>8.260455</td>\n",
       "      <td>0.0</td>\n",
       "      <td>1.0</td>\n",
       "      <td>1.0</td>\n",
       "      <td>0.0</td>\n",
       "      <td>0.0</td>\n",
       "      <td>1.0</td>\n",
       "      <td>0.0</td>\n",
       "      <td>0.0</td>\n",
       "    </tr>\n",
       "    <tr>\n",
       "      <th>4</th>\n",
       "      <td>31</td>\n",
       "      <td>25.74</td>\n",
       "      <td>0</td>\n",
       "      <td>3756.6216</td>\n",
       "      <td>8.231541</td>\n",
       "      <td>1.0</td>\n",
       "      <td>0.0</td>\n",
       "      <td>1.0</td>\n",
       "      <td>0.0</td>\n",
       "      <td>0.0</td>\n",
       "      <td>0.0</td>\n",
       "      <td>1.0</td>\n",
       "      <td>0.0</td>\n",
       "    </tr>\n",
       "  </tbody>\n",
       "</table>\n",
       "</div>\n",
       "    <div class=\"colab-df-buttons\">\n",
       "\n",
       "  <div class=\"colab-df-container\">\n",
       "    <button class=\"colab-df-convert\" onclick=\"convertToInteractive('df-7dbbc71c-101b-4164-a9a7-dda2595630db')\"\n",
       "            title=\"Convert this dataframe to an interactive table.\"\n",
       "            style=\"display:none;\">\n",
       "\n",
       "  <svg xmlns=\"http://www.w3.org/2000/svg\" height=\"24px\" viewBox=\"0 -960 960 960\">\n",
       "    <path d=\"M120-120v-720h720v720H120Zm60-500h600v-160H180v160Zm220 220h160v-160H400v160Zm0 220h160v-160H400v160ZM180-400h160v-160H180v160Zm440 0h160v-160H620v160ZM180-180h160v-160H180v160Zm440 0h160v-160H620v160Z\"/>\n",
       "  </svg>\n",
       "    </button>\n",
       "\n",
       "  <style>\n",
       "    .colab-df-container {\n",
       "      display:flex;\n",
       "      gap: 12px;\n",
       "    }\n",
       "\n",
       "    .colab-df-convert {\n",
       "      background-color: #E8F0FE;\n",
       "      border: none;\n",
       "      border-radius: 50%;\n",
       "      cursor: pointer;\n",
       "      display: none;\n",
       "      fill: #1967D2;\n",
       "      height: 32px;\n",
       "      padding: 0 0 0 0;\n",
       "      width: 32px;\n",
       "    }\n",
       "\n",
       "    .colab-df-convert:hover {\n",
       "      background-color: #E2EBFA;\n",
       "      box-shadow: 0px 1px 2px rgba(60, 64, 67, 0.3), 0px 1px 3px 1px rgba(60, 64, 67, 0.15);\n",
       "      fill: #174EA6;\n",
       "    }\n",
       "\n",
       "    .colab-df-buttons div {\n",
       "      margin-bottom: 4px;\n",
       "    }\n",
       "\n",
       "    [theme=dark] .colab-df-convert {\n",
       "      background-color: #3B4455;\n",
       "      fill: #D2E3FC;\n",
       "    }\n",
       "\n",
       "    [theme=dark] .colab-df-convert:hover {\n",
       "      background-color: #434B5C;\n",
       "      box-shadow: 0px 1px 3px 1px rgba(0, 0, 0, 0.15);\n",
       "      filter: drop-shadow(0px 1px 2px rgba(0, 0, 0, 0.3));\n",
       "      fill: #FFFFFF;\n",
       "    }\n",
       "  </style>\n",
       "\n",
       "    <script>\n",
       "      const buttonEl =\n",
       "        document.querySelector('#df-7dbbc71c-101b-4164-a9a7-dda2595630db button.colab-df-convert');\n",
       "      buttonEl.style.display =\n",
       "        google.colab.kernel.accessAllowed ? 'block' : 'none';\n",
       "\n",
       "      async function convertToInteractive(key) {\n",
       "        const element = document.querySelector('#df-7dbbc71c-101b-4164-a9a7-dda2595630db');\n",
       "        const dataTable =\n",
       "          await google.colab.kernel.invokeFunction('convertToInteractive',\n",
       "                                                    [key], {});\n",
       "        if (!dataTable) return;\n",
       "\n",
       "        const docLinkHtml = 'Like what you see? Visit the ' +\n",
       "          '<a target=\"_blank\" href=https://colab.research.google.com/notebooks/data_table.ipynb>data table notebook</a>'\n",
       "          + ' to learn more about interactive tables.';\n",
       "        element.innerHTML = '';\n",
       "        dataTable['output_type'] = 'display_data';\n",
       "        await google.colab.output.renderOutput(dataTable, element);\n",
       "        const docLink = document.createElement('div');\n",
       "        docLink.innerHTML = docLinkHtml;\n",
       "        element.appendChild(docLink);\n",
       "      }\n",
       "    </script>\n",
       "  </div>\n",
       "\n",
       "\n",
       "<div id=\"df-0d433e7f-cca2-456e-87f3-17ba811c29ce\">\n",
       "  <button class=\"colab-df-quickchart\" onclick=\"quickchart('df-0d433e7f-cca2-456e-87f3-17ba811c29ce')\"\n",
       "            title=\"Suggest charts\"\n",
       "            style=\"display:none;\">\n",
       "\n",
       "<svg xmlns=\"http://www.w3.org/2000/svg\" height=\"24px\"viewBox=\"0 0 24 24\"\n",
       "     width=\"24px\">\n",
       "    <g>\n",
       "        <path d=\"M19 3H5c-1.1 0-2 .9-2 2v14c0 1.1.9 2 2 2h14c1.1 0 2-.9 2-2V5c0-1.1-.9-2-2-2zM9 17H7v-7h2v7zm4 0h-2V7h2v10zm4 0h-2v-4h2v4z\"/>\n",
       "    </g>\n",
       "</svg>\n",
       "  </button>\n",
       "\n",
       "<style>\n",
       "  .colab-df-quickchart {\n",
       "      --bg-color: #E8F0FE;\n",
       "      --fill-color: #1967D2;\n",
       "      --hover-bg-color: #E2EBFA;\n",
       "      --hover-fill-color: #174EA6;\n",
       "      --disabled-fill-color: #AAA;\n",
       "      --disabled-bg-color: #DDD;\n",
       "  }\n",
       "\n",
       "  [theme=dark] .colab-df-quickchart {\n",
       "      --bg-color: #3B4455;\n",
       "      --fill-color: #D2E3FC;\n",
       "      --hover-bg-color: #434B5C;\n",
       "      --hover-fill-color: #FFFFFF;\n",
       "      --disabled-bg-color: #3B4455;\n",
       "      --disabled-fill-color: #666;\n",
       "  }\n",
       "\n",
       "  .colab-df-quickchart {\n",
       "    background-color: var(--bg-color);\n",
       "    border: none;\n",
       "    border-radius: 50%;\n",
       "    cursor: pointer;\n",
       "    display: none;\n",
       "    fill: var(--fill-color);\n",
       "    height: 32px;\n",
       "    padding: 0;\n",
       "    width: 32px;\n",
       "  }\n",
       "\n",
       "  .colab-df-quickchart:hover {\n",
       "    background-color: var(--hover-bg-color);\n",
       "    box-shadow: 0 1px 2px rgba(60, 64, 67, 0.3), 0 1px 3px 1px rgba(60, 64, 67, 0.15);\n",
       "    fill: var(--button-hover-fill-color);\n",
       "  }\n",
       "\n",
       "  .colab-df-quickchart-complete:disabled,\n",
       "  .colab-df-quickchart-complete:disabled:hover {\n",
       "    background-color: var(--disabled-bg-color);\n",
       "    fill: var(--disabled-fill-color);\n",
       "    box-shadow: none;\n",
       "  }\n",
       "\n",
       "  .colab-df-spinner {\n",
       "    border: 2px solid var(--fill-color);\n",
       "    border-color: transparent;\n",
       "    border-bottom-color: var(--fill-color);\n",
       "    animation:\n",
       "      spin 1s steps(1) infinite;\n",
       "  }\n",
       "\n",
       "  @keyframes spin {\n",
       "    0% {\n",
       "      border-color: transparent;\n",
       "      border-bottom-color: var(--fill-color);\n",
       "      border-left-color: var(--fill-color);\n",
       "    }\n",
       "    20% {\n",
       "      border-color: transparent;\n",
       "      border-left-color: var(--fill-color);\n",
       "      border-top-color: var(--fill-color);\n",
       "    }\n",
       "    30% {\n",
       "      border-color: transparent;\n",
       "      border-left-color: var(--fill-color);\n",
       "      border-top-color: var(--fill-color);\n",
       "      border-right-color: var(--fill-color);\n",
       "    }\n",
       "    40% {\n",
       "      border-color: transparent;\n",
       "      border-right-color: var(--fill-color);\n",
       "      border-top-color: var(--fill-color);\n",
       "    }\n",
       "    60% {\n",
       "      border-color: transparent;\n",
       "      border-right-color: var(--fill-color);\n",
       "    }\n",
       "    80% {\n",
       "      border-color: transparent;\n",
       "      border-right-color: var(--fill-color);\n",
       "      border-bottom-color: var(--fill-color);\n",
       "    }\n",
       "    90% {\n",
       "      border-color: transparent;\n",
       "      border-bottom-color: var(--fill-color);\n",
       "    }\n",
       "  }\n",
       "</style>\n",
       "\n",
       "  <script>\n",
       "    async function quickchart(key) {\n",
       "      const quickchartButtonEl =\n",
       "        document.querySelector('#' + key + ' button');\n",
       "      quickchartButtonEl.disabled = true;  // To prevent multiple clicks.\n",
       "      quickchartButtonEl.classList.add('colab-df-spinner');\n",
       "      try {\n",
       "        const charts = await google.colab.kernel.invokeFunction(\n",
       "            'suggestCharts', [key], {});\n",
       "      } catch (error) {\n",
       "        console.error('Error during call to suggestCharts:', error);\n",
       "      }\n",
       "      quickchartButtonEl.classList.remove('colab-df-spinner');\n",
       "      quickchartButtonEl.classList.add('colab-df-quickchart-complete');\n",
       "    }\n",
       "    (() => {\n",
       "      let quickchartButtonEl =\n",
       "        document.querySelector('#df-0d433e7f-cca2-456e-87f3-17ba811c29ce button');\n",
       "      quickchartButtonEl.style.display =\n",
       "        google.colab.kernel.accessAllowed ? 'block' : 'none';\n",
       "    })();\n",
       "  </script>\n",
       "</div>\n",
       "\n",
       "    </div>\n",
       "  </div>\n"
      ],
      "text/plain": [
       "   age    bmi  children     charges  log_charges  female  male   no  yes  \\\n",
       "0   19  27.90         0  16884.9240     9.734236     1.0   0.0  0.0  1.0   \n",
       "1   18  33.77         1   1725.5523     7.453882     0.0   1.0  1.0  0.0   \n",
       "2   28  33.00         3   4449.4620     8.400763     0.0   1.0  1.0  0.0   \n",
       "3   32  28.88         0   3866.8552     8.260455     0.0   1.0  1.0  0.0   \n",
       "4   31  25.74         0   3756.6216     8.231541     1.0   0.0  1.0  0.0   \n",
       "\n",
       "   northeast  northwest  southeast  southwest  \n",
       "0        0.0        0.0        0.0        1.0  \n",
       "1        0.0        0.0        1.0        0.0  \n",
       "2        0.0        0.0        1.0        0.0  \n",
       "3        0.0        1.0        0.0        0.0  \n",
       "4        0.0        0.0        1.0        0.0  "
      ]
     },
     "execution_count": 155,
     "metadata": {},
     "output_type": "execute_result"
    }
   ],
   "source": [
    "df.head()"
   ]
  },
  {
   "cell_type": "code",
   "execution_count": 156,
   "id": "3ce448f5",
   "metadata": {
    "id": "3ce448f5"
   },
   "outputs": [],
   "source": [
    "#scaling\n",
    "from sklearn.preprocessing import StandardScaler"
   ]
  },
  {
   "cell_type": "code",
   "execution_count": 157,
   "id": "7409eb9a",
   "metadata": {
    "id": "7409eb9a"
   },
   "outputs": [],
   "source": [
    "scaler=StandardScaler()"
   ]
  },
  {
   "cell_type": "code",
   "execution_count": 158,
   "id": "81b02771",
   "metadata": {
    "id": "81b02771"
   },
   "outputs": [],
   "source": [
    "scaler_df=scaler.fit_transform(df)"
   ]
  },
  {
   "cell_type": "code",
   "execution_count": 159,
   "id": "84046463",
   "metadata": {
    "colab": {
     "base_uri": "https://localhost:8080/",
     "height": 206
    },
    "id": "84046463",
    "outputId": "e6e93282-1682-4895-e113-cf4a6e1e645c"
   },
   "outputs": [
    {
     "data": {
      "text/html": [
       "\n",
       "  <div id=\"df-4328d7bd-7035-4684-8fa1-b8e2324cc4db\" class=\"colab-df-container\">\n",
       "    <div>\n",
       "<style scoped>\n",
       "    .dataframe tbody tr th:only-of-type {\n",
       "        vertical-align: middle;\n",
       "    }\n",
       "\n",
       "    .dataframe tbody tr th {\n",
       "        vertical-align: top;\n",
       "    }\n",
       "\n",
       "    .dataframe thead th {\n",
       "        text-align: right;\n",
       "    }\n",
       "</style>\n",
       "<table border=\"1\" class=\"dataframe\">\n",
       "  <thead>\n",
       "    <tr style=\"text-align: right;\">\n",
       "      <th></th>\n",
       "      <th>age</th>\n",
       "      <th>bmi</th>\n",
       "      <th>children</th>\n",
       "      <th>charges</th>\n",
       "      <th>log_charges</th>\n",
       "      <th>female</th>\n",
       "      <th>male</th>\n",
       "      <th>no</th>\n",
       "      <th>yes</th>\n",
       "      <th>northeast</th>\n",
       "      <th>northwest</th>\n",
       "      <th>southeast</th>\n",
       "      <th>southwest</th>\n",
       "    </tr>\n",
       "  </thead>\n",
       "  <tbody>\n",
       "    <tr>\n",
       "      <th>0</th>\n",
       "      <td>19</td>\n",
       "      <td>27.90</td>\n",
       "      <td>0</td>\n",
       "      <td>16884.9240</td>\n",
       "      <td>9.734236</td>\n",
       "      <td>1.0</td>\n",
       "      <td>0.0</td>\n",
       "      <td>0.0</td>\n",
       "      <td>1.0</td>\n",
       "      <td>0.0</td>\n",
       "      <td>0.0</td>\n",
       "      <td>0.0</td>\n",
       "      <td>1.0</td>\n",
       "    </tr>\n",
       "    <tr>\n",
       "      <th>1</th>\n",
       "      <td>18</td>\n",
       "      <td>33.77</td>\n",
       "      <td>1</td>\n",
       "      <td>1725.5523</td>\n",
       "      <td>7.453882</td>\n",
       "      <td>0.0</td>\n",
       "      <td>1.0</td>\n",
       "      <td>1.0</td>\n",
       "      <td>0.0</td>\n",
       "      <td>0.0</td>\n",
       "      <td>0.0</td>\n",
       "      <td>1.0</td>\n",
       "      <td>0.0</td>\n",
       "    </tr>\n",
       "    <tr>\n",
       "      <th>2</th>\n",
       "      <td>28</td>\n",
       "      <td>33.00</td>\n",
       "      <td>3</td>\n",
       "      <td>4449.4620</td>\n",
       "      <td>8.400763</td>\n",
       "      <td>0.0</td>\n",
       "      <td>1.0</td>\n",
       "      <td>1.0</td>\n",
       "      <td>0.0</td>\n",
       "      <td>0.0</td>\n",
       "      <td>0.0</td>\n",
       "      <td>1.0</td>\n",
       "      <td>0.0</td>\n",
       "    </tr>\n",
       "    <tr>\n",
       "      <th>3</th>\n",
       "      <td>32</td>\n",
       "      <td>28.88</td>\n",
       "      <td>0</td>\n",
       "      <td>3866.8552</td>\n",
       "      <td>8.260455</td>\n",
       "      <td>0.0</td>\n",
       "      <td>1.0</td>\n",
       "      <td>1.0</td>\n",
       "      <td>0.0</td>\n",
       "      <td>0.0</td>\n",
       "      <td>1.0</td>\n",
       "      <td>0.0</td>\n",
       "      <td>0.0</td>\n",
       "    </tr>\n",
       "    <tr>\n",
       "      <th>4</th>\n",
       "      <td>31</td>\n",
       "      <td>25.74</td>\n",
       "      <td>0</td>\n",
       "      <td>3756.6216</td>\n",
       "      <td>8.231541</td>\n",
       "      <td>1.0</td>\n",
       "      <td>0.0</td>\n",
       "      <td>1.0</td>\n",
       "      <td>0.0</td>\n",
       "      <td>0.0</td>\n",
       "      <td>0.0</td>\n",
       "      <td>1.0</td>\n",
       "      <td>0.0</td>\n",
       "    </tr>\n",
       "  </tbody>\n",
       "</table>\n",
       "</div>\n",
       "    <div class=\"colab-df-buttons\">\n",
       "\n",
       "  <div class=\"colab-df-container\">\n",
       "    <button class=\"colab-df-convert\" onclick=\"convertToInteractive('df-4328d7bd-7035-4684-8fa1-b8e2324cc4db')\"\n",
       "            title=\"Convert this dataframe to an interactive table.\"\n",
       "            style=\"display:none;\">\n",
       "\n",
       "  <svg xmlns=\"http://www.w3.org/2000/svg\" height=\"24px\" viewBox=\"0 -960 960 960\">\n",
       "    <path d=\"M120-120v-720h720v720H120Zm60-500h600v-160H180v160Zm220 220h160v-160H400v160Zm0 220h160v-160H400v160ZM180-400h160v-160H180v160Zm440 0h160v-160H620v160ZM180-180h160v-160H180v160Zm440 0h160v-160H620v160Z\"/>\n",
       "  </svg>\n",
       "    </button>\n",
       "\n",
       "  <style>\n",
       "    .colab-df-container {\n",
       "      display:flex;\n",
       "      gap: 12px;\n",
       "    }\n",
       "\n",
       "    .colab-df-convert {\n",
       "      background-color: #E8F0FE;\n",
       "      border: none;\n",
       "      border-radius: 50%;\n",
       "      cursor: pointer;\n",
       "      display: none;\n",
       "      fill: #1967D2;\n",
       "      height: 32px;\n",
       "      padding: 0 0 0 0;\n",
       "      width: 32px;\n",
       "    }\n",
       "\n",
       "    .colab-df-convert:hover {\n",
       "      background-color: #E2EBFA;\n",
       "      box-shadow: 0px 1px 2px rgba(60, 64, 67, 0.3), 0px 1px 3px 1px rgba(60, 64, 67, 0.15);\n",
       "      fill: #174EA6;\n",
       "    }\n",
       "\n",
       "    .colab-df-buttons div {\n",
       "      margin-bottom: 4px;\n",
       "    }\n",
       "\n",
       "    [theme=dark] .colab-df-convert {\n",
       "      background-color: #3B4455;\n",
       "      fill: #D2E3FC;\n",
       "    }\n",
       "\n",
       "    [theme=dark] .colab-df-convert:hover {\n",
       "      background-color: #434B5C;\n",
       "      box-shadow: 0px 1px 3px 1px rgba(0, 0, 0, 0.15);\n",
       "      filter: drop-shadow(0px 1px 2px rgba(0, 0, 0, 0.3));\n",
       "      fill: #FFFFFF;\n",
       "    }\n",
       "  </style>\n",
       "\n",
       "    <script>\n",
       "      const buttonEl =\n",
       "        document.querySelector('#df-4328d7bd-7035-4684-8fa1-b8e2324cc4db button.colab-df-convert');\n",
       "      buttonEl.style.display =\n",
       "        google.colab.kernel.accessAllowed ? 'block' : 'none';\n",
       "\n",
       "      async function convertToInteractive(key) {\n",
       "        const element = document.querySelector('#df-4328d7bd-7035-4684-8fa1-b8e2324cc4db');\n",
       "        const dataTable =\n",
       "          await google.colab.kernel.invokeFunction('convertToInteractive',\n",
       "                                                    [key], {});\n",
       "        if (!dataTable) return;\n",
       "\n",
       "        const docLinkHtml = 'Like what you see? Visit the ' +\n",
       "          '<a target=\"_blank\" href=https://colab.research.google.com/notebooks/data_table.ipynb>data table notebook</a>'\n",
       "          + ' to learn more about interactive tables.';\n",
       "        element.innerHTML = '';\n",
       "        dataTable['output_type'] = 'display_data';\n",
       "        await google.colab.output.renderOutput(dataTable, element);\n",
       "        const docLink = document.createElement('div');\n",
       "        docLink.innerHTML = docLinkHtml;\n",
       "        element.appendChild(docLink);\n",
       "      }\n",
       "    </script>\n",
       "  </div>\n",
       "\n",
       "\n",
       "<div id=\"df-b8a01370-0384-47e0-b7d8-83ff38e15d44\">\n",
       "  <button class=\"colab-df-quickchart\" onclick=\"quickchart('df-b8a01370-0384-47e0-b7d8-83ff38e15d44')\"\n",
       "            title=\"Suggest charts\"\n",
       "            style=\"display:none;\">\n",
       "\n",
       "<svg xmlns=\"http://www.w3.org/2000/svg\" height=\"24px\"viewBox=\"0 0 24 24\"\n",
       "     width=\"24px\">\n",
       "    <g>\n",
       "        <path d=\"M19 3H5c-1.1 0-2 .9-2 2v14c0 1.1.9 2 2 2h14c1.1 0 2-.9 2-2V5c0-1.1-.9-2-2-2zM9 17H7v-7h2v7zm4 0h-2V7h2v10zm4 0h-2v-4h2v4z\"/>\n",
       "    </g>\n",
       "</svg>\n",
       "  </button>\n",
       "\n",
       "<style>\n",
       "  .colab-df-quickchart {\n",
       "      --bg-color: #E8F0FE;\n",
       "      --fill-color: #1967D2;\n",
       "      --hover-bg-color: #E2EBFA;\n",
       "      --hover-fill-color: #174EA6;\n",
       "      --disabled-fill-color: #AAA;\n",
       "      --disabled-bg-color: #DDD;\n",
       "  }\n",
       "\n",
       "  [theme=dark] .colab-df-quickchart {\n",
       "      --bg-color: #3B4455;\n",
       "      --fill-color: #D2E3FC;\n",
       "      --hover-bg-color: #434B5C;\n",
       "      --hover-fill-color: #FFFFFF;\n",
       "      --disabled-bg-color: #3B4455;\n",
       "      --disabled-fill-color: #666;\n",
       "  }\n",
       "\n",
       "  .colab-df-quickchart {\n",
       "    background-color: var(--bg-color);\n",
       "    border: none;\n",
       "    border-radius: 50%;\n",
       "    cursor: pointer;\n",
       "    display: none;\n",
       "    fill: var(--fill-color);\n",
       "    height: 32px;\n",
       "    padding: 0;\n",
       "    width: 32px;\n",
       "  }\n",
       "\n",
       "  .colab-df-quickchart:hover {\n",
       "    background-color: var(--hover-bg-color);\n",
       "    box-shadow: 0 1px 2px rgba(60, 64, 67, 0.3), 0 1px 3px 1px rgba(60, 64, 67, 0.15);\n",
       "    fill: var(--button-hover-fill-color);\n",
       "  }\n",
       "\n",
       "  .colab-df-quickchart-complete:disabled,\n",
       "  .colab-df-quickchart-complete:disabled:hover {\n",
       "    background-color: var(--disabled-bg-color);\n",
       "    fill: var(--disabled-fill-color);\n",
       "    box-shadow: none;\n",
       "  }\n",
       "\n",
       "  .colab-df-spinner {\n",
       "    border: 2px solid var(--fill-color);\n",
       "    border-color: transparent;\n",
       "    border-bottom-color: var(--fill-color);\n",
       "    animation:\n",
       "      spin 1s steps(1) infinite;\n",
       "  }\n",
       "\n",
       "  @keyframes spin {\n",
       "    0% {\n",
       "      border-color: transparent;\n",
       "      border-bottom-color: var(--fill-color);\n",
       "      border-left-color: var(--fill-color);\n",
       "    }\n",
       "    20% {\n",
       "      border-color: transparent;\n",
       "      border-left-color: var(--fill-color);\n",
       "      border-top-color: var(--fill-color);\n",
       "    }\n",
       "    30% {\n",
       "      border-color: transparent;\n",
       "      border-left-color: var(--fill-color);\n",
       "      border-top-color: var(--fill-color);\n",
       "      border-right-color: var(--fill-color);\n",
       "    }\n",
       "    40% {\n",
       "      border-color: transparent;\n",
       "      border-right-color: var(--fill-color);\n",
       "      border-top-color: var(--fill-color);\n",
       "    }\n",
       "    60% {\n",
       "      border-color: transparent;\n",
       "      border-right-color: var(--fill-color);\n",
       "    }\n",
       "    80% {\n",
       "      border-color: transparent;\n",
       "      border-right-color: var(--fill-color);\n",
       "      border-bottom-color: var(--fill-color);\n",
       "    }\n",
       "    90% {\n",
       "      border-color: transparent;\n",
       "      border-bottom-color: var(--fill-color);\n",
       "    }\n",
       "  }\n",
       "</style>\n",
       "\n",
       "  <script>\n",
       "    async function quickchart(key) {\n",
       "      const quickchartButtonEl =\n",
       "        document.querySelector('#' + key + ' button');\n",
       "      quickchartButtonEl.disabled = true;  // To prevent multiple clicks.\n",
       "      quickchartButtonEl.classList.add('colab-df-spinner');\n",
       "      try {\n",
       "        const charts = await google.colab.kernel.invokeFunction(\n",
       "            'suggestCharts', [key], {});\n",
       "      } catch (error) {\n",
       "        console.error('Error during call to suggestCharts:', error);\n",
       "      }\n",
       "      quickchartButtonEl.classList.remove('colab-df-spinner');\n",
       "      quickchartButtonEl.classList.add('colab-df-quickchart-complete');\n",
       "    }\n",
       "    (() => {\n",
       "      let quickchartButtonEl =\n",
       "        document.querySelector('#df-b8a01370-0384-47e0-b7d8-83ff38e15d44 button');\n",
       "      quickchartButtonEl.style.display =\n",
       "        google.colab.kernel.accessAllowed ? 'block' : 'none';\n",
       "    })();\n",
       "  </script>\n",
       "</div>\n",
       "\n",
       "    </div>\n",
       "  </div>\n"
      ],
      "text/plain": [
       "   age    bmi  children     charges  log_charges  female  male   no  yes  \\\n",
       "0   19  27.90         0  16884.9240     9.734236     1.0   0.0  0.0  1.0   \n",
       "1   18  33.77         1   1725.5523     7.453882     0.0   1.0  1.0  0.0   \n",
       "2   28  33.00         3   4449.4620     8.400763     0.0   1.0  1.0  0.0   \n",
       "3   32  28.88         0   3866.8552     8.260455     0.0   1.0  1.0  0.0   \n",
       "4   31  25.74         0   3756.6216     8.231541     1.0   0.0  1.0  0.0   \n",
       "\n",
       "   northeast  northwest  southeast  southwest  \n",
       "0        0.0        0.0        0.0        1.0  \n",
       "1        0.0        0.0        1.0        0.0  \n",
       "2        0.0        0.0        1.0        0.0  \n",
       "3        0.0        1.0        0.0        0.0  \n",
       "4        0.0        0.0        1.0        0.0  "
      ]
     },
     "execution_count": 159,
     "metadata": {},
     "output_type": "execute_result"
    }
   ],
   "source": [
    "df.head()"
   ]
  },
  {
   "cell_type": "code",
   "execution_count": 160,
   "id": "6OKF7GkLXhlW",
   "metadata": {
    "id": "6OKF7GkLXhlW"
   },
   "outputs": [],
   "source": [
    "X = df.drop(columns=[\"charges\"])\n",
    "y = df['charges']"
   ]
  },
  {
   "cell_type": "code",
   "execution_count": 161,
   "id": "HnTAkMbSXh2N",
   "metadata": {
    "colab": {
     "base_uri": "https://localhost:8080/",
     "height": 472
    },
    "id": "HnTAkMbSXh2N",
    "outputId": "cff185e0-50c9-4c75-f8c3-33249b4d1e75"
   },
   "outputs": [
    {
     "data": {
      "image/png": "[encoded data removed]",
      "text/plain": [
       "<Figure size 640x480 with 1 Axes>"
      ]
     },
     "metadata": {},
     "output_type": "display_data"
    }
   ],
   "source": [
    "import matplotlib.pyplot as plt\n",
    "# Visualize the data and the linear regression line\n",
    "plt.scatter(X[\"age\"], y, color='black', label='Actual Data')\n",
    "# plt.plot(x_test, y_pred, color='blue', linewidth=3, label='Linear Regression Line')\n",
    "plt.title('the original data')\n",
    "plt.xlabel('X-axis')\n",
    "plt.ylabel('Y-axis')\n",
    "plt.legend()\n",
    "plt.show()"
   ]
  },
  {
   "cell_type": "code",
   "execution_count": 162,
   "id": "fsAeYv6iXh5A",
   "metadata": {
    "id": "fsAeYv6iXh5A"
   },
   "outputs": [],
   "source": [
    "# Split the data into training and testing sets\n",
    "from sklearn.model_selection import train_test_split\n",
    "x_train , x_test , y_train , y_test = train_test_split(X,y , test_size= 0.70 , random_state=70)"
   ]
  },
  {
   "cell_type": "code",
   "execution_count": 163,
   "id": "SNfwu48MXh74",
   "metadata": {
    "colab": {
     "base_uri": "https://localhost:8080/",
     "height": 206
    },
    "id": "SNfwu48MXh74",
    "outputId": "c89242c1-6d36-4fb5-f68d-42aa92f97626"
   },
   "outputs": [
    {
     "data": {
      "text/html": [
       "\n",
       "  <div id=\"df-e669106c-df65-4e48-9a64-17a94d1d159c\" class=\"colab-df-container\">\n",
       "    <div>\n",
       "<style scoped>\n",
       "    .dataframe tbody tr th:only-of-type {\n",
       "        vertical-align: middle;\n",
       "    }\n",
       "\n",
       "    .dataframe tbody tr th {\n",
       "        vertical-align: top;\n",
       "    }\n",
       "\n",
       "    .dataframe thead th {\n",
       "        text-align: right;\n",
       "    }\n",
       "</style>\n",
       "<table border=\"1\" class=\"dataframe\">\n",
       "  <thead>\n",
       "    <tr style=\"text-align: right;\">\n",
       "      <th></th>\n",
       "      <th>age</th>\n",
       "      <th>bmi</th>\n",
       "      <th>children</th>\n",
       "      <th>log_charges</th>\n",
       "      <th>female</th>\n",
       "      <th>male</th>\n",
       "      <th>no</th>\n",
       "      <th>yes</th>\n",
       "      <th>northeast</th>\n",
       "      <th>northwest</th>\n",
       "      <th>southeast</th>\n",
       "      <th>southwest</th>\n",
       "    </tr>\n",
       "  </thead>\n",
       "  <tbody>\n",
       "    <tr>\n",
       "      <th>585</th>\n",
       "      <td>18</td>\n",
       "      <td>40.280</td>\n",
       "      <td>0</td>\n",
       "      <td>7.704632</td>\n",
       "      <td>1.0</td>\n",
       "      <td>0.0</td>\n",
       "      <td>1.0</td>\n",
       "      <td>0.0</td>\n",
       "      <td>1.0</td>\n",
       "      <td>0.0</td>\n",
       "      <td>0.0</td>\n",
       "      <td>0.0</td>\n",
       "    </tr>\n",
       "    <tr>\n",
       "      <th>566</th>\n",
       "      <td>31</td>\n",
       "      <td>30.495</td>\n",
       "      <td>3</td>\n",
       "      <td>8.718374</td>\n",
       "      <td>1.0</td>\n",
       "      <td>0.0</td>\n",
       "      <td>1.0</td>\n",
       "      <td>0.0</td>\n",
       "      <td>1.0</td>\n",
       "      <td>0.0</td>\n",
       "      <td>0.0</td>\n",
       "      <td>0.0</td>\n",
       "    </tr>\n",
       "    <tr>\n",
       "      <th>144</th>\n",
       "      <td>58</td>\n",
       "      <td>28.595</td>\n",
       "      <td>0</td>\n",
       "      <td>9.370491</td>\n",
       "      <td>0.0</td>\n",
       "      <td>1.0</td>\n",
       "      <td>1.0</td>\n",
       "      <td>0.0</td>\n",
       "      <td>0.0</td>\n",
       "      <td>1.0</td>\n",
       "      <td>0.0</td>\n",
       "      <td>0.0</td>\n",
       "    </tr>\n",
       "    <tr>\n",
       "      <th>873</th>\n",
       "      <td>63</td>\n",
       "      <td>33.660</td>\n",
       "      <td>3</td>\n",
       "      <td>9.626583</td>\n",
       "      <td>0.0</td>\n",
       "      <td>1.0</td>\n",
       "      <td>1.0</td>\n",
       "      <td>0.0</td>\n",
       "      <td>0.0</td>\n",
       "      <td>0.0</td>\n",
       "      <td>1.0</td>\n",
       "      <td>0.0</td>\n",
       "    </tr>\n",
       "    <tr>\n",
       "      <th>1060</th>\n",
       "      <td>32</td>\n",
       "      <td>28.120</td>\n",
       "      <td>4</td>\n",
       "      <td>9.974574</td>\n",
       "      <td>0.0</td>\n",
       "      <td>1.0</td>\n",
       "      <td>0.0</td>\n",
       "      <td>1.0</td>\n",
       "      <td>0.0</td>\n",
       "      <td>1.0</td>\n",
       "      <td>0.0</td>\n",
       "      <td>0.0</td>\n",
       "    </tr>\n",
       "  </tbody>\n",
       "</table>\n",
       "</div>\n",
       "    <div class=\"colab-df-buttons\">\n",
       "\n",
       "  <div class=\"colab-df-container\">\n",
       "    <button class=\"colab-df-convert\" onclick=\"convertToInteractive('df-e669106c-df65-4e48-9a64-17a94d1d159c')\"\n",
       "            title=\"Convert this dataframe to an interactive table.\"\n",
       "            style=\"display:none;\">\n",
       "\n",
       "  <svg xmlns=\"http://www.w3.org/2000/svg\" height=\"24px\" viewBox=\"0 -960 960 960\">\n",
       "    <path d=\"M120-120v-720h720v720H120Zm60-500h600v-160H180v160Zm220 220h160v-160H400v160Zm0 220h160v-160H400v160ZM180-400h160v-160H180v160Zm440 0h160v-160H620v160ZM180-180h160v-160H180v160Zm440 0h160v-160H620v160Z\"/>\n",
       "  </svg>\n",
       "    </button>\n",
       "\n",
       "  <style>\n",
       "    .colab-df-container {\n",
       "      display:flex;\n",
       "      gap: 12px;\n",
       "    }\n",
       "\n",
       "    .colab-df-convert {\n",
       "      background-color: #E8F0FE;\n",
       "      border: none;\n",
       "      border-radius: 50%;\n",
       "      cursor: pointer;\n",
       "      display: none;\n",
       "      fill: #1967D2;\n",
       "      height: 32px;\n",
       "      padding: 0 0 0 0;\n",
       "      width: 32px;\n",
       "    }\n",
       "\n",
       "    .colab-df-convert:hover {\n",
       "      background-color: #E2EBFA;\n",
       "      box-shadow: 0px 1px 2px rgba(60, 64, 67, 0.3), 0px 1px 3px 1px rgba(60, 64, 67, 0.15);\n",
       "      fill: #174EA6;\n",
       "    }\n",
       "\n",
       "    .colab-df-buttons div {\n",
       "      margin-bottom: 4px;\n",
       "    }\n",
       "\n",
       "    [theme=dark] .colab-df-convert {\n",
       "      background-color: #3B4455;\n",
       "      fill: #D2E3FC;\n",
       "    }\n",
       "\n",
       "    [theme=dark] .colab-df-convert:hover {\n",
       "      background-color: #434B5C;\n",
       "      box-shadow: 0px 1px 3px 1px rgba(0, 0, 0, 0.15);\n",
       "      filter: drop-shadow(0px 1px 2px rgba(0, 0, 0, 0.3));\n",
       "      fill: #FFFFFF;\n",
       "    }\n",
       "  </style>\n",
       "\n",
       "    <script>\n",
       "      const buttonEl =\n",
       "        document.querySelector('#df-e669106c-df65-4e48-9a64-17a94d1d159c button.colab-df-convert');\n",
       "      buttonEl.style.display =\n",
       "        google.colab.kernel.accessAllowed ? 'block' : 'none';\n",
       "\n",
       "      async function convertToInteractive(key) {\n",
       "        const element = document.querySelector('#df-e669106c-df65-4e48-9a64-17a94d1d159c');\n",
       "        const dataTable =\n",
       "          await google.colab.kernel.invokeFunction('convertToInteractive',\n",
       "                                                    [key], {});\n",
       "        if (!dataTable) return;\n",
       "\n",
       "        const docLinkHtml = 'Like what you see? Visit the ' +\n",
       "          '<a target=\"_blank\" href=https://colab.research.google.com/notebooks/data_table.ipynb>data table notebook</a>'\n",
       "          + ' to learn more about interactive tables.';\n",
       "        element.innerHTML = '';\n",
       "        dataTable['output_type'] = 'display_data';\n",
       "        await google.colab.output.renderOutput(dataTable, element);\n",
       "        const docLink = document.createElement('div');\n",
       "        docLink.innerHTML = docLinkHtml;\n",
       "        element.appendChild(docLink);\n",
       "      }\n",
       "    </script>\n",
       "  </div>\n",
       "\n",
       "\n",
       "<div id=\"df-970fe7a3-fa33-4ae6-95ff-3680f919e0da\">\n",
       "  <button class=\"colab-df-quickchart\" onclick=\"quickchart('df-970fe7a3-fa33-4ae6-95ff-3680f919e0da')\"\n",
       "            title=\"Suggest charts\"\n",
       "            style=\"display:none;\">\n",
       "\n",
       "<svg xmlns=\"http://www.w3.org/2000/svg\" height=\"24px\"viewBox=\"0 0 24 24\"\n",
       "     width=\"24px\">\n",
       "    <g>\n",
       "        <path d=\"M19 3H5c-1.1 0-2 .9-2 2v14c0 1.1.9 2 2 2h14c1.1 0 2-.9 2-2V5c0-1.1-.9-2-2-2zM9 17H7v-7h2v7zm4 0h-2V7h2v10zm4 0h-2v-4h2v4z\"/>\n",
       "    </g>\n",
       "</svg>\n",
       "  </button>\n",
       "\n",
       "<style>\n",
       "  .colab-df-quickchart {\n",
       "      --bg-color: #E8F0FE;\n",
       "      --fill-color: #1967D2;\n",
       "      --hover-bg-color: #E2EBFA;\n",
       "      --hover-fill-color: #174EA6;\n",
       "      --disabled-fill-color: #AAA;\n",
       "      --disabled-bg-color: #DDD;\n",
       "  }\n",
       "\n",
       "  [theme=dark] .colab-df-quickchart {\n",
       "      --bg-color: #3B4455;\n",
       "      --fill-color: #D2E3FC;\n",
       "      --hover-bg-color: #434B5C;\n",
       "      --hover-fill-color: #FFFFFF;\n",
       "      --disabled-bg-color: #3B4455;\n",
       "      --disabled-fill-color: #666;\n",
       "  }\n",
       "\n",
       "  .colab-df-quickchart {\n",
       "    background-color: var(--bg-color);\n",
       "    border: none;\n",
       "    border-radius: 50%;\n",
       "    cursor: pointer;\n",
       "    display: none;\n",
       "    fill: var(--fill-color);\n",
       "    height: 32px;\n",
       "    padding: 0;\n",
       "    width: 32px;\n",
       "  }\n",
       "\n",
       "  .colab-df-quickchart:hover {\n",
       "    background-color: var(--hover-bg-color);\n",
       "    box-shadow: 0 1px 2px rgba(60, 64, 67, 0.3), 0 1px 3px 1px rgba(60, 64, 67, 0.15);\n",
       "    fill: var(--button-hover-fill-color);\n",
       "  }\n",
       "\n",
       "  .colab-df-quickchart-complete:disabled,\n",
       "  .colab-df-quickchart-complete:disabled:hover {\n",
       "    background-color: var(--disabled-bg-color);\n",
       "    fill: var(--disabled-fill-color);\n",
       "    box-shadow: none;\n",
       "  }\n",
       "\n",
       "  .colab-df-spinner {\n",
       "    border: 2px solid var(--fill-color);\n",
       "    border-color: transparent;\n",
       "    border-bottom-color: var(--fill-color);\n",
       "    animation:\n",
       "      spin 1s steps(1) infinite;\n",
       "  }\n",
       "\n",
       "  @keyframes spin {\n",
       "    0% {\n",
       "      border-color: transparent;\n",
       "      border-bottom-color: var(--fill-color);\n",
       "      border-left-color: var(--fill-color);\n",
       "    }\n",
       "    20% {\n",
       "      border-color: transparent;\n",
       "      border-left-color: var(--fill-color);\n",
       "      border-top-color: var(--fill-color);\n",
       "    }\n",
       "    30% {\n",
       "      border-color: transparent;\n",
       "      border-left-color: var(--fill-color);\n",
       "      border-top-color: var(--fill-color);\n",
       "      border-right-color: var(--fill-color);\n",
       "    }\n",
       "    40% {\n",
       "      border-color: transparent;\n",
       "      border-right-color: var(--fill-color);\n",
       "      border-top-color: var(--fill-color);\n",
       "    }\n",
       "    60% {\n",
       "      border-color: transparent;\n",
       "      border-right-color: var(--fill-color);\n",
       "    }\n",
       "    80% {\n",
       "      border-color: transparent;\n",
       "      border-right-color: var(--fill-color);\n",
       "      border-bottom-color: var(--fill-color);\n",
       "    }\n",
       "    90% {\n",
       "      border-color: transparent;\n",
       "      border-bottom-color: var(--fill-color);\n",
       "    }\n",
       "  }\n",
       "</style>\n",
       "\n",
       "  <script>\n",
       "    async function quickchart(key) {\n",
       "      const quickchartButtonEl =\n",
       "        document.querySelector('#' + key + ' button');\n",
       "      quickchartButtonEl.disabled = true;  // To prevent multiple clicks.\n",
       "      quickchartButtonEl.classList.add('colab-df-spinner');\n",
       "      try {\n",
       "        const charts = await google.colab.kernel.invokeFunction(\n",
       "            'suggestCharts', [key], {});\n",
       "      } catch (error) {\n",
       "        console.error('Error during call to suggestCharts:', error);\n",
       "      }\n",
       "      quickchartButtonEl.classList.remove('colab-df-spinner');\n",
       "      quickchartButtonEl.classList.add('colab-df-quickchart-complete');\n",
       "    }\n",
       "    (() => {\n",
       "      let quickchartButtonEl =\n",
       "        document.querySelector('#df-970fe7a3-fa33-4ae6-95ff-3680f919e0da button');\n",
       "      quickchartButtonEl.style.display =\n",
       "        google.colab.kernel.accessAllowed ? 'block' : 'none';\n",
       "    })();\n",
       "  </script>\n",
       "</div>\n",
       "\n",
       "    </div>\n",
       "  </div>\n"
      ],
      "text/plain": [
       "      age     bmi  children  log_charges  female  male   no  yes  northeast  \\\n",
       "585    18  40.280         0     7.704632     1.0   0.0  1.0  0.0        1.0   \n",
       "566    31  30.495         3     8.718374     1.0   0.0  1.0  0.0        1.0   \n",
       "144    58  28.595         0     9.370491     0.0   1.0  1.0  0.0        0.0   \n",
       "873    63  33.660         3     9.626583     0.0   1.0  1.0  0.0        0.0   \n",
       "1060   32  28.120         4     9.974574     0.0   1.0  0.0  1.0        0.0   \n",
       "\n",
       "      northwest  southeast  southwest  \n",
       "585         0.0        0.0        0.0  \n",
       "566         0.0        0.0        0.0  \n",
       "144         1.0        0.0        0.0  \n",
       "873         0.0        1.0        0.0  \n",
       "1060        1.0        0.0        0.0  "
      ]
     },
     "execution_count": 163,
     "metadata": {},
     "output_type": "execute_result"
    }
   ],
   "source": [
    "x_train.head()"
   ]
  },
  {
   "cell_type": "code",
   "execution_count": 164,
   "id": "3BiM_9QPXh-Y",
   "metadata": {
    "colab": {
     "base_uri": "https://localhost:8080/"
    },
    "id": "3BiM_9QPXh-Y",
    "outputId": "ce4c0613-62b3-4bcf-9664-d70a22d9e51d"
   },
   "outputs": [
    {
     "data": {
      "text/plain": [
       "585      2217.60120\n",
       "566      6113.23105\n",
       "144     11735.87905\n",
       "873     15161.53440\n",
       "1060    21472.47880\n",
       "Name: charges, dtype: float64"
      ]
     },
     "execution_count": 164,
     "metadata": {},
     "output_type": "execute_result"
    }
   ],
   "source": [
    "y_train.head()"
   ]
  },
  {
   "cell_type": "code",
   "execution_count": 165,
   "id": "rroYwri7XiBD",
   "metadata": {
    "id": "rroYwri7XiBD"
   },
   "outputs": [],
   "source": [
    "# Create a linear regression model\n",
    "from sklearn.linear_model import LinearRegression\n",
    "model = LinearRegression()"
   ]
  },
  {
   "cell_type": "code",
   "execution_count": 166,
   "id": "S_9kVPnoXiDj",
   "metadata": {
    "colab": {
     "base_uri": "https://localhost:8080/",
     "height": 74
    },
    "id": "S_9kVPnoXiDj",
    "outputId": "dd379a93-be6b-46e0-9dd1-cdd580ad36cd"
   },
   "outputs": [
    {
     "data": {
      "text/html": [
       "<style>#sk-container-id-1 {color: black;background-color: white;}#sk-container-id-1 pre{padding: 0;}#sk-container-id-1 div.sk-toggleable {background-color: white;}#sk-container-id-1 label.sk-toggleable__label {cursor: pointer;display: block;width: 100%;margin-bottom: 0;padding: 0.3em;box-sizing: border-box;text-align: center;}#sk-container-id-1 label.sk-toggleable__label-arrow:before {content: \"▸\";float: left;margin-right: 0.25em;color: #696969;}#sk-container-id-1 label.sk-toggleable__label-arrow:hover:before {color: black;}#sk-container-id-1 div.sk-estimator:hover label.sk-toggleable__label-arrow:before {color: black;}#sk-container-id-1 div.sk-toggleable__content {max-height: 0;max-width: 0;overflow: hidden;text-align: left;background-color: #f0f8ff;}#sk-container-id-1 div.sk-toggleable__content pre {margin: 0.2em;color: black;border-radius: 0.25em;background-color: #f0f8ff;}#sk-container-id-1 input.sk-toggleable__control:checked~div.sk-toggleable__content {max-height: 200px;max-width: 100%;overflow: auto;}#sk-container-id-1 input.sk-toggleable__control:checked~label.sk-toggleable__label-arrow:before {content: \"▾\";}#sk-container-id-1 div.sk-estimator input.sk-toggleable__control:checked~label.sk-toggleable__label {background-color: #d4ebff;}#sk-container-id-1 div.sk-label input.sk-toggleable__control:checked~label.sk-toggleable__label {background-color: #d4ebff;}#sk-container-id-1 input.sk-hidden--visually {border: 0;clip: rect(1px 1px 1px 1px);clip: rect(1px, 1px, 1px, 1px);height: 1px;margin: -1px;overflow: hidden;padding: 0;position: absolute;width: 1px;}#sk-container-id-1 div.sk-estimator {font-family: monospace;background-color: #f0f8ff;border: 1px dotted black;border-radius: 0.25em;box-sizing: border-box;margin-bottom: 0.5em;}#sk-container-id-1 div.sk-estimator:hover {background-color: #d4ebff;}#sk-container-id-1 div.sk-parallel-item::after {content: \"\";width: 100%;border-bottom: 1px solid gray;flex-grow: 1;}#sk-container-id-1 div.sk-label:hover label.sk-toggleable__label {background-color: #d4ebff;}#sk-container-id-1 div.sk-serial::before {content: \"\";position: absolute;border-left: 1px solid gray;box-sizing: border-box;top: 0;bottom: 0;left: 50%;z-index: 0;}#sk-container-id-1 div.sk-serial {display: flex;flex-direction: column;align-items: center;background-color: white;padding-right: 0.2em;padding-left: 0.2em;position: relative;}#sk-container-id-1 div.sk-item {position: relative;z-index: 1;}#sk-container-id-1 div.sk-parallel {display: flex;align-items: stretch;justify-content: center;background-color: white;position: relative;}#sk-container-id-1 div.sk-item::before, #sk-container-id-1 div.sk-parallel-item::before {content: \"\";position: absolute;border-left: 1px solid gray;box-sizing: border-box;top: 0;bottom: 0;left: 50%;z-index: -1;}#sk-container-id-1 div.sk-parallel-item {display: flex;flex-direction: column;z-index: 1;position: relative;background-color: white;}#sk-container-id-1 div.sk-parallel-item:first-child::after {align-self: flex-end;width: 50%;}#sk-container-id-1 div.sk-parallel-item:last-child::after {align-self: flex-start;width: 50%;}#sk-container-id-1 div.sk-parallel-item:only-child::after {width: 0;}#sk-container-id-1 div.sk-dashed-wrapped {border: 1px dashed gray;margin: 0 0.4em 0.5em 0.4em;box-sizing: border-box;padding-bottom: 0.4em;background-color: white;}#sk-container-id-1 div.sk-label label {font-family: monospace;font-weight: bold;display: inline-block;line-height: 1.2em;}#sk-container-id-1 div.sk-label-container {text-align: center;}#sk-container-id-1 div.sk-container {/* jupyter's `normalize.less` sets `[hidden] { display: none; }` but bootstrap.min.css set `[hidden] { display: none !important; }` so we also need the `!important` here to be able to override the default hidden behavior on the sphinx rendered scikit-learn.org. See: https://github.com/scikit-learn/scikit-learn/issues/21755 */display: inline-block !important;position: relative;}#sk-container-id-1 div.sk-text-repr-fallback {display: none;}</style><div id=\"sk-container-id-1\" class=\"sk-top-container\"><div class=\"sk-text-repr-fallback\"><pre>LinearRegression()</pre><b>In a Jupyter environment, please rerun this cell to show the HTML representation or trust the notebook. <br />On GitHub, the HTML representation is unable to render, please try loading this page with nbviewer.org.</b></div><div class=\"sk-container\" hidden><div class=\"sk-item\"><div class=\"sk-estimator sk-toggleable\"><input class=\"sk-toggleable__control sk-hidden--visually\" id=\"sk-estimator-id-1\" type=\"checkbox\" checked><label for=\"sk-estimator-id-1\" class=\"sk-toggleable__label sk-toggleable__label-arrow\">LinearRegression</label><div class=\"sk-toggleable__content\"><pre>LinearRegression()</pre></div></div></div></div></div>"
      ],
      "text/plain": [
       "LinearRegression()"
      ]
     },
     "execution_count": 166,
     "metadata": {},
     "output_type": "execute_result"
    }
   ],
   "source": [
    "# Train the model\n",
    "model.fit(x_train,y_train) #train"
   ]
  },
  {
   "cell_type": "code",
   "execution_count": 167,
   "id": "Wxf842G7XiGH",
   "metadata": {
    "colab": {
     "base_uri": "https://localhost:8080/",
     "height": 472
    },
    "id": "Wxf842G7XiGH",
    "outputId": "5e15502a-f29a-450a-f991-e35452ab8585"
   },
   "outputs": [
    {
     "data": {
      "image/png": "[encoded data removed]",
      "text/plain": [
       "<Figure size 640x480 with 1 Axes>"
      ]
     },
     "metadata": {},
     "output_type": "display_data"
    }
   ],
   "source": [
    "import matplotlib.pyplot as plt\n",
    "# Visualize the data and the linear regression line\n",
    "plt.scatter(x_test[\"age\"], y_test, color='black', label='Actual Data')\n",
    "# plt.plot(x_test, y_pred, color='blue', linewidth=3, label='Linear Regression Line')\n",
    "plt.title('Linear Regression test Model')\n",
    "plt.xlabel('X-axis')\n",
    "plt.ylabel('Y-axis')\n",
    "plt.legend()\n",
    "plt.show()"
   ]
  },
  {
   "cell_type": "code",
   "execution_count": 168,
   "id": "D07x-reNXiIt",
   "metadata": {
    "colab": {
     "base_uri": "https://localhost:8080/",
     "height": 472
    },
    "id": "D07x-reNXiIt",
    "outputId": "e47e3c39-81ef-47ef-b62b-886baaa7e137"
   },
   "outputs": [
    {
     "data": {
      "image/png": "[encoded data removed]",
      "text/plain": [
       "<Figure size 640x480 with 1 Axes>"
      ]
     },
     "metadata": {},
     "output_type": "display_data"
    }
   ],
   "source": [
    "import matplotlib.pyplot as plt\n",
    "# Visualize the data and the linear regression line\n",
    "plt.scatter(x_train[\"age\"], y_train, color='black', label='Actual Data')\n",
    "# plt.plot(x_test, y_pred, color='blue', linewidth=3, label='Linear Regression Line')\n",
    "plt.title('Linear Regression train Model ')\n",
    "plt.xlabel('X-axis')\n",
    "plt.ylabel('Y-axis')\n",
    "plt.legend()\n",
    "plt.show()"
   ]
  },
  {
   "cell_type": "code",
   "execution_count": 169,
   "id": "dnKsWACYXiLg",
   "metadata": {
    "colab": {
     "base_uri": "https://localhost:8080/"
    },
    "id": "dnKsWACYXiLg",
    "outputId": "cf528d68-8078-4262-abfa-b5eb954e2e98"
   },
   "outputs": [
    {
     "data": {
      "text/plain": [
       "array([  -38.49941364,    19.30285929,  -328.52762008,  6858.71366706,\n",
       "        -247.60275335,   247.60275335, -1568.36696539,  1568.36696539,\n",
       "          35.12474865,  -180.92069699,   194.01504171,   -48.21909337])"
      ]
     },
     "execution_count": 169,
     "metadata": {},
     "output_type": "execute_result"
    }
   ],
   "source": [
    "model.coef_"
   ]
  },
  {
   "cell_type": "code",
   "execution_count": 170,
   "id": "Lg0HftltXiN4",
   "metadata": {
    "colab": {
     "base_uri": "https://localhost:8080/"
    },
    "id": "Lg0HftltXiN4",
    "outputId": "5e4d5b09-aa69-4afe-ddcd-84f47d0c93b0"
   },
   "outputs": [
    {
     "data": {
      "text/plain": [
       "-49431.98678481979"
      ]
     },
     "execution_count": 170,
     "metadata": {},
     "output_type": "execute_result"
    }
   ],
   "source": [
    "model.intercept_"
   ]
  },
  {
   "cell_type": "markdown",
   "id": "cJlwqAvLYSnA",
   "metadata": {
    "id": "cJlwqAvLYSnA"
   },
   "source": [
    "####y = intercept(b) + coef(m)*x\n"
   ]
  },
  {
   "cell_type": "code",
   "execution_count": 171,
   "id": "WvBsjJyPXiQO",
   "metadata": {
    "colab": {
     "base_uri": "https://localhost:8080/",
     "height": 430
    },
    "id": "WvBsjJyPXiQO",
    "outputId": "5908986f-70ae-478a-c2a1-7952896e4c71"
   },
   "outputs": [
    {
     "data": {
      "image/png": "[encoded data removed]",
      "text/plain": [
       "<Figure size 640x480 with 1 Axes>"
      ]
     },
     "metadata": {},
     "output_type": "display_data"
    }
   ],
   "source": [
    "plt.scatter(x_train[\"age\"], y_train)\n",
    "plt.plot(x_train[\"age\"], -0.02604727874226525 + 0.29071804*x_train[\"age\"], 'r')\n",
    "plt.show()"
   ]
  },
  {
   "cell_type": "code",
   "execution_count": 172,
   "id": "Jtg363aOXiTF",
   "metadata": {
    "id": "Jtg363aOXiTF"
   },
   "outputs": [],
   "source": [
    "y_pred = model.predict(x_test) #testing"
   ]
  },
  {
   "cell_type": "code",
   "execution_count": 173,
   "id": "PFKGFvUFXiWC",
   "metadata": {
    "colab": {
     "base_uri": "https://localhost:8080/"
    },
    "id": "PFKGFvUFXiWC",
    "outputId": "e9c34dfe-fa9b-45df-b5d7-10300ad27105"
   },
   "outputs": [
    {
     "data": {
      "text/plain": [
       "array([ 1.94313814e+04, -6.85587253e+02,  2.68991159e+03,  3.82096342e+03,\n",
       "        3.23962912e+03,  1.76416975e+03,  1.85623168e+03,  7.23908491e+03,\n",
       "        1.17061831e+04,  1.04555463e+04,  1.06259169e+04,  8.24361969e+03,\n",
       "        5.56883309e+03,  9.92604027e+03,  6.42657687e+03,  1.84902970e+03,\n",
       "        2.28506940e+03, -4.81697256e+02,  6.66809845e+03,  2.55081993e+03,\n",
       "        9.37957253e+03,  8.86573542e+03,  1.03393276e+04,  6.12461929e+03,\n",
       "       -2.08224596e+03,  1.24309309e+04,  1.00154655e+04,  7.93483135e+03,\n",
       "        6.36722405e+03,  3.94509955e+03,  2.20060337e+03,  1.70246955e+03,\n",
       "        9.78303978e+03,  1.24034134e+04,  7.76705335e+03,  7.94318400e+03,\n",
       "        1.25132934e+04,  8.37924559e+03,  4.98595142e+03, -5.31316300e+02,\n",
       "        2.36451824e+03,  1.95165699e+04,  4.73241115e+03,  1.16950927e+04,\n",
       "        7.34634243e+03,  4.16152258e+03,  9.00819740e+03,  9.48661476e+03,\n",
       "        1.02602222e+04,  9.74201081e+03,  4.53836135e+03,  4.71038027e+03,\n",
       "        9.93840573e+03,  1.29307081e+04,  7.27228871e+03,  1.29979851e+04,\n",
       "        1.00819355e+04,  8.74877850e+03,  1.77901316e+04,  1.04696761e+04,\n",
       "        1.04602234e+04,  6.48026888e+03,  1.29981538e+04,  7.55152008e+03,\n",
       "        6.83562299e+03,  1.47371626e+04,  8.00924826e+02,  4.11886917e+03,\n",
       "        4.70721838e+03,  3.19128975e+03,  1.05809177e+04,  1.05591731e+04,\n",
       "        7.64544932e+03,  1.02437633e+04,  1.80469294e+04,  6.91786581e+03,\n",
       "       -2.53676192e+02,  5.86528511e+03, -2.26889989e+03,  1.21735839e+04,\n",
       "        4.45677637e+03,  1.62967716e+04,  1.22247885e+04,  1.06813504e+04,\n",
       "        1.17795292e+04,  8.51178468e+03,  1.43063327e+03,  5.61977408e+03,\n",
       "        1.64180427e+04,  5.71328572e+03,  2.10416867e+02,  1.83975022e+04,\n",
       "        1.18064621e+04,  4.03020168e+03,  4.72282011e+03,  1.13225827e+04,\n",
       "        5.04791213e+03,  4.12761154e+03,  5.24827295e+03,  1.04639696e+04,\n",
       "        8.80683377e+03,  1.62677178e+04,  1.60298806e+04,  7.99895589e+03,\n",
       "        1.20179237e+04,  4.07962929e+03,  1.11408194e+04,  4.92618422e+02,\n",
       "        1.16736245e+04,  1.31547902e+04,  1.03571567e+04,  1.21313102e+04,\n",
       "        1.15492789e+04,  6.10747745e+03,  7.96781564e+03,  9.59021731e+02,\n",
       "        6.16176508e+03,  1.12958392e+04,  1.54858003e+04,  6.14052144e+03,\n",
       "        1.45361905e+04,  1.15726043e+04,  1.07147643e+04,  5.84917213e+03,\n",
       "        1.20772870e+04,  7.80559125e+03,  1.10397701e+04,  1.25882313e+04,\n",
       "        1.07338022e+03,  7.47722063e+03,  1.18546471e+04,  7.94042311e+03,\n",
       "        1.23651538e+03, -1.76926203e+02,  1.80230250e+04,  1.95645572e+02,\n",
       "        5.63280525e+03,  2.56950705e+03,  3.14887147e+03,  4.85799483e+03,\n",
       "        9.16426495e+03,  1.13676765e+04,  6.15169336e+03,  1.94039628e+04,\n",
       "        1.10235812e+04,  1.10594923e+01, -2.24022592e+03,  7.06320400e+03,\n",
       "        1.58701547e+04,  1.85869689e+04,  5.26468432e+03,  8.71133487e+03,\n",
       "       -2.75966267e+02,  1.14445903e+04,  6.16993632e+03,  1.92647645e+04,\n",
       "        1.02095943e+04,  1.37930397e+03,  1.19329204e+04,  1.20179164e+04,\n",
       "        9.63820176e+03,  9.56083143e+03,  7.73523314e+03, -1.86260287e+03,\n",
       "        7.57845827e+03,  6.09492134e+03,  1.19532450e+04,  3.39678075e+03,\n",
       "        1.17026362e+04,  9.12353434e+03,  5.35406651e+03,  6.19892466e+03,\n",
       "        8.86787751e+03,  1.20617533e+04,  1.14791095e+04,  1.45559668e+04,\n",
       "        1.26818188e+04,  8.37225567e+03,  6.46472374e+03,  1.70037906e+03,\n",
       "        8.57924412e+03,  8.63741024e+01,  9.47057731e+03,  7.52278612e+03,\n",
       "        5.51737918e+03,  3.31489576e+03,  9.87318290e+03,  3.76627921e+03,\n",
       "        1.88483424e+04,  1.02941392e+04,  1.14013538e+04,  1.15228526e+04,\n",
       "        1.06724904e+04,  8.36950976e+03, -3.70244012e+02,  1.21529246e+04,\n",
       "        7.65439148e+03,  4.67886648e+03,  9.08992419e+03,  1.07486976e+04,\n",
       "        9.80731265e+03,  1.51295809e+04,  7.95151423e+03,  5.11640912e+03,\n",
       "        1.85140468e+03,  9.28204208e+03,  8.95114141e+03,  1.58417970e+04,\n",
       "        1.10184954e+04,  1.11487471e+04,  7.70116850e+03,  9.82484923e+03,\n",
       "        1.90316808e+04,  8.65281569e+03,  8.99992900e+02,  1.03253232e+04,\n",
       "        5.79747607e+03,  1.30038622e+03,  5.45306882e+03,  1.01718805e+04,\n",
       "        3.94403802e+03,  6.40208590e+03,  7.50351277e+03,  1.14109111e+04,\n",
       "        9.83980030e+03,  1.13938950e+04,  9.80817070e+03,  7.48703405e+03,\n",
       "       -2.28238651e+03,  3.72719367e+03,  1.27051493e+04,  1.05387213e+04,\n",
       "        1.15562578e+03,  7.38905003e+03,  6.50297204e+03,  6.45820626e+03,\n",
       "        7.36388730e+03,  3.89835813e+03,  3.76395082e+03,  7.00832035e+03,\n",
       "        1.47379197e+04,  6.33352870e+03,  8.98411557e+03,  5.66915377e+03,\n",
       "        6.37087206e+03,  1.14826137e+04,  1.46357607e+04,  1.01248009e+04,\n",
       "        1.04022742e+04,  1.63661634e+04,  1.04660042e+04,  8.74259333e+03,\n",
       "        1.19525535e+04,  1.90798243e+04,  1.01659027e+03,  5.72960052e+03,\n",
       "        1.26547440e+04,  8.42315179e+03,  1.20758172e+03,  2.34719931e+03,\n",
       "        8.80173792e+03,  3.54858626e+01,  7.03232312e+03,  1.04708320e+04,\n",
       "        9.11052788e+03,  1.23313711e+04,  7.35226953e+03,  1.53137241e+04,\n",
       "        1.30850467e+03,  8.54244789e+03,  2.47399915e+03,  1.08511538e+04,\n",
       "        1.02144112e+04,  4.13535689e+03,  9.69292350e+03,  1.23722414e+04,\n",
       "        1.13621490e+04,  1.11168439e+04,  9.53228154e+03,  1.90340265e+04,\n",
       "        7.96512273e+03,  9.36371101e+03,  8.53721022e+03,  9.33662419e+03,\n",
       "        1.24303589e+04,  6.85359629e+03,  1.03915025e+04,  2.09850212e+03,\n",
       "        5.50703378e+03,  9.65241770e+03,  8.15761500e+02,  1.15175416e+04,\n",
       "        3.04012830e+03,  1.19408615e+04,  1.12998912e+04,  8.26504015e+03,\n",
       "        1.84140549e+04, -2.66810705e+02,  1.19145517e+04,  6.01075914e+03,\n",
       "        1.79671789e+04,  1.18220097e+03,  1.15176882e+04,  3.86938106e+03,\n",
       "        1.17957166e+04,  1.15041019e+04,  1.11231954e+04,  1.08139794e+04,\n",
       "        8.07063638e+03,  1.14070881e+04,  1.13250766e+04,  9.62312341e+03,\n",
       "        2.54510455e+03,  1.21685757e+04,  6.80781752e+03, -5.51168875e+02,\n",
       "        4.66428353e+03,  1.03108493e+04,  5.13597956e+03,  9.16365425e+03,\n",
       "        7.57621714e+02,  5.08008457e+03,  5.74782979e+03,  1.24132133e+04,\n",
       "        7.84108957e+03,  1.01069931e+04,  1.23455114e+04,  2.27029014e+03,\n",
       "        2.39656721e+03,  1.50031619e+04,  7.09239222e+03, -1.89750681e+03,\n",
       "        1.48001968e+03,  1.25189170e+04,  1.18523777e+04,  6.45460041e+03,\n",
       "        4.87459192e+02,  8.47143381e+03,  1.01843647e+04,  9.25772871e+03,\n",
       "        5.38986645e+03,  1.27930021e+04,  4.72995084e+03,  7.88570053e+03,\n",
       "        9.95222454e+03,  1.83021795e+04,  7.89471370e+03,  5.97134024e+03,\n",
       "        1.05728017e+04,  9.87942499e+03,  8.15549693e+02,  1.10515571e+04,\n",
       "        7.43687527e+03,  1.60567688e+03,  6.87505964e+03,  8.52718832e+03,\n",
       "        8.39401135e+03,  3.14148789e+03,  1.26436225e+04,  2.39761470e+03,\n",
       "        8.08512610e+03,  8.72686855e+03, -5.01603647e+02,  1.04699830e+04,\n",
       "        1.51817375e+03,  2.24460090e+03, -5.56576192e+02,  2.00507782e+03,\n",
       "       -3.80033350e+02,  5.39222359e+02,  1.20994036e+04,  1.13191954e+04,\n",
       "        1.09437826e+04,  1.22178664e+04,  1.25193880e+04,  9.02889333e+03,\n",
       "        3.30642056e+03,  1.13797536e+04,  8.81049729e+03,  1.00384356e+04,\n",
       "        1.00512682e+04,  3.07322208e+03,  1.17494334e+04,  1.86714632e+04,\n",
       "        7.45970485e+03,  9.58882857e+03,  5.58258450e+03,  3.88198632e+03,\n",
       "        5.11818192e+03,  1.18826072e+04, -2.34979099e+03,  5.18745460e+03,\n",
       "        1.03084274e+04,  6.96983996e+03,  1.66871138e+02,  1.86907611e+04,\n",
       "        1.18321881e+04,  1.02165466e+04,  9.66051368e+03,  8.18817916e+03,\n",
       "        1.49010823e+04,  6.54645359e+03, -1.01779865e+02,  3.46914756e+03,\n",
       "        1.00886953e+04,  7.83179102e+03,  1.10261996e+04,  1.01419258e+04,\n",
       "        6.84681215e+03,  7.61344002e+03,  1.84988908e+04,  1.15928611e+04,\n",
       "        4.57343914e+03,  1.18892333e+04,  2.60842397e+02,  6.24791434e+03,\n",
       "        1.16859292e+04,  1.04168444e+04,  1.06565101e+04,  1.96589941e+04,\n",
       "        4.22171599e+03,  9.78606792e+03,  4.08150404e+03,  1.76646271e+04,\n",
       "        1.94740447e+04,  8.02210661e+03,  1.78542235e+04,  1.86788551e+04,\n",
       "        1.72658289e+04,  1.02546592e+03,  7.09159406e+03,  1.78900838e+04,\n",
       "        1.80506786e+04,  1.64296380e+04,  8.01684964e+03,  1.69306871e+04,\n",
       "        1.09447532e+04,  7.87074730e+03, -2.69576310e+02,  8.91833493e+03,\n",
       "        8.09673171e+03,  9.25464033e+03,  1.51343639e+02,  1.75126050e+04,\n",
       "        1.25540166e+04,  9.39980708e+03,  7.67870925e+02,  8.75378350e+03,\n",
       "        7.79733704e+03,  1.09352358e+04,  2.52739089e+03,  1.32333385e+04,\n",
       "        1.37591765e+03,  1.81434195e+04,  1.31609746e+04,  2.71279865e+03,\n",
       "        1.04404700e+04,  1.22094014e+04,  8.34586339e+03,  6.24259401e+02,\n",
       "        8.49123119e+03, -2.44688024e+02,  1.85428170e+04,  9.48220397e+03,\n",
       "        1.07803090e+04,  1.11437084e+04,  1.71499384e+04,  8.78012608e+03,\n",
       "        1.14214645e+04,  1.64537517e+04,  5.49888177e+03,  1.02918281e+03,\n",
       "        8.04695054e+02,  9.62188633e+03,  7.81668291e+03,  8.99729489e+03,\n",
       "        8.42139353e+03, -7.26094099e+02,  5.31915863e+03,  1.01346240e+04,\n",
       "        8.49685140e+03,  8.11955317e+03, -2.28098537e+02,  1.19275269e+04,\n",
       "        4.52497671e+03,  1.00855279e+04,  1.49390914e+03,  1.88083446e+04,\n",
       "        9.18876048e+02,  3.26450555e+03,  1.03890338e+04,  1.27366779e+04,\n",
       "        6.79656663e+02,  2.30306874e+03,  2.66129365e+03,  1.13640096e+04,\n",
       "        9.70247250e+03,  5.71423421e+03,  7.26950094e+03,  1.20465902e+04,\n",
       "        5.75192056e+03,  2.36748829e+03,  1.74970922e+04,  9.39033917e+03,\n",
       "        1.87929826e+04,  1.05578210e+04,  7.98986497e+03,  5.41276604e+02,\n",
       "        9.92070841e+03,  7.71752179e+01,  1.14109862e+04,  9.45946302e+03,\n",
       "        1.02993374e+04,  1.21539795e+04,  1.48574398e+03,  5.66437700e+03,\n",
       "        1.93869892e+03,  1.22629778e+04,  1.03402261e+04,  3.36694539e+03,\n",
       "        3.88529253e+03,  4.65484132e+03,  1.12620540e+04,  1.30930786e+04,\n",
       "       -1.99692584e+03,  8.87799438e+03,  8.21105748e+03,  1.11076843e+04,\n",
       "        1.13879397e+04,  1.12752280e+03,  6.36058015e+03,  6.22503989e+03,\n",
       "        1.62833390e+04,  7.93847223e+03,  3.25669480e+03,  1.29897242e+04,\n",
       "        1.07809213e+04,  1.06095808e+04,  7.08463886e+03,  1.12472802e+04,\n",
       "        4.39251614e+03, -1.77032654e+02,  9.37947552e+03,  1.93974031e+04,\n",
       "        1.20044833e+04,  1.35653125e+03,  1.25300739e+04,  1.02273127e+04,\n",
       "        1.09470118e+04,  1.79825589e+03,  7.69264286e+03,  1.08196894e+04,\n",
       "        7.24799829e+03,  3.80427813e+03,  1.04673268e+04,  8.27080130e+03,\n",
       "        1.15369035e+04,  8.07732107e+03,  3.39893851e+03,  6.98066879e+03,\n",
       "        2.20277132e+03,  1.81989229e+04,  2.00576753e+03,  5.17106066e+03,\n",
       "        1.10299323e+04,  7.33278178e+01,  6.67084165e+03,  8.90186270e+03,\n",
       "        2.12008797e+03,  1.19180314e+04,  1.07984563e+04,  8.16488725e+03,\n",
       "        6.46962021e+03,  1.04596021e+04,  9.25248670e+03,  1.02770334e+02,\n",
       "        1.09054713e+04,  7.11291038e+03,  5.55396278e+03,  8.29638097e+03,\n",
       "        6.10200283e+03,  3.64969620e+03,  1.61651159e+04,  1.42577475e+04,\n",
       "        1.67811928e+02,  8.41711716e+03, -2.17040078e+02,  2.46856231e+03,\n",
       "       -4.46700680e+02,  8.22384708e+03,  9.25001802e+03,  1.80917033e+04,\n",
       "        2.55116261e+03,  7.95669695e+03,  1.26351418e+04,  1.20936766e+04,\n",
       "        1.86605964e+04,  1.09374965e+04,  1.04931151e+04,  7.91563235e+03,\n",
       "        1.25531154e+04,  1.82183460e+04,  1.07572620e+04,  7.92103437e+03,\n",
       "        1.66318167e+04,  1.95342157e+04,  1.49084493e+04,  6.52676622e+03,\n",
       "        1.03004717e+04,  9.30010450e+03,  8.52617107e+03,  1.03027668e+04,\n",
       "        3.94391521e+03,  5.65204312e+03,  1.10707465e+04,  1.82312353e+04,\n",
       "        1.18405515e+04,  7.21320411e+03,  6.08238497e+03, -2.32847413e+03,\n",
       "        8.00848135e+03,  6.38917626e+03,  4.99186948e+03,  3.98739968e+03,\n",
       "        6.01391040e+03,  9.57688792e+03,  5.14578343e+03,  1.34798559e+02,\n",
       "        5.76808641e+03,  6.35251583e+03,  5.75944471e+03,  9.14686064e+03,\n",
       "        2.98581686e+03,  7.49506361e+03,  1.01539823e+04,  7.82708137e+03,\n",
       "        4.53408863e+03,  9.68281766e+03,  6.20653061e+03,  6.37647235e+03,\n",
       "        1.18928771e+04,  8.56711021e+03,  1.00633360e+04,  2.54364899e+03,\n",
       "        1.13719403e+04,  5.37466441e+03,  5.88502669e+03,  5.56858728e+03,\n",
       "        8.97472498e+03,  1.23451735e+04,  9.90782037e+02,  1.26275311e+04,\n",
       "        7.68400175e+03,  1.38473440e+04,  6.36706623e+03,  8.99083767e+03,\n",
       "        5.44588785e+03,  8.27726079e+03,  1.99877674e+02,  8.69388247e+03,\n",
       "        7.92101747e+03,  5.72921869e+03,  8.39673697e+03,  6.57486709e+01,\n",
       "        1.21128139e+04,  1.89069351e+04, -5.23111800e+02, -2.34065445e+03,\n",
       "        5.63312126e+03,  3.48770233e+03,  7.55086414e+03,  5.73751276e+03,\n",
       "        1.10032347e+04,  8.56705891e+03,  7.35214499e+03,  9.02712592e+03,\n",
       "        5.96634569e+03,  6.00197157e+03,  1.22906255e+04,  6.67709834e+03,\n",
       "        1.14936707e+04,  1.14293228e+04,  1.08704731e+04,  1.08974331e+04,\n",
       "        5.11416352e+03,  1.22219849e+04,  1.89352294e+04,  1.89335875e+04,\n",
       "        1.87013623e+03,  4.74221284e+03,  1.00089507e+04,  8.46843507e+03,\n",
       "        7.78862183e+03,  1.28078109e+04,  1.26606329e+04,  1.00072710e+04,\n",
       "        1.08137379e+04,  1.09011872e+04,  6.69877919e+03,  1.00886094e+04,\n",
       "        8.37140502e+03,  1.61492031e+04,  1.47553050e+03,  9.46978226e+03,\n",
       "        1.22886402e+04,  4.77880951e+03,  6.98239929e+03,  5.38761362e+03,\n",
       "        8.47478867e+03,  9.66075548e+03,  4.08616552e+03,  2.85717553e+03,\n",
       "        1.03885072e+04,  5.80040864e+03,  1.11539519e+04, -1.03597818e+03,\n",
       "        1.04632569e+04,  1.89277296e+04,  4.20529521e+03,  8.31771805e+03,\n",
       "        7.54812512e+03,  8.43545087e+03,  9.75340111e+03,  9.16142579e+03,\n",
       "        1.85477336e+04,  7.64452296e+03,  1.09761315e+04,  9.95964648e+02,\n",
       "       -3.01036112e+02,  8.09327434e+03,  9.99428649e+03,  4.37798827e+03,\n",
       "        1.55832879e+04, -2.07223809e+03,  1.14319727e+04,  9.91877878e+03,\n",
       "        1.08997001e+04,  6.81914678e+03,  6.80388045e+03,  1.84194919e+04,\n",
       "        1.86402638e+04,  5.94054661e+03,  1.17079451e+04,  1.38572617e+03,\n",
       "        1.17601157e+04,  1.10475296e+04,  9.99592849e+03,  9.22643330e+03,\n",
       "        1.89844517e+04,  1.24760545e+04,  7.03182982e+03,  1.08625148e+04,\n",
       "        1.33419482e+04,  1.23790596e+04, -3.37070118e+02,  1.14635092e+04,\n",
       "        7.86880573e+03,  1.20925180e+04,  1.23129670e+04])"
      ]
     },
     "execution_count": 173,
     "metadata": {},
     "output_type": "execute_result"
    }
   ],
   "source": [
    "y_pred"
   ]
  },
  {
   "cell_type": "code",
   "execution_count": 174,
   "id": "NucoKeF5XiYi",
   "metadata": {
    "colab": {
     "base_uri": "https://localhost:8080/"
    },
    "id": "NucoKeF5XiYi",
    "outputId": "97644c43-66bf-44e5-b985-226b01cc4bd5"
   },
   "outputs": [
    {
     "data": {
      "text/plain": [
       "array([20773.62775 ,  1515.3449  ,  2497.0383  ,  3070.8087  ,\n",
       "        3021.80915 ,  2457.502   ,  2527.81865 ,  5584.3057  ,\n",
       "       14001.2867  , 10355.641   , 11163.568   ,  6781.3542  ,\n",
       "        3935.1799  ,  9225.2564  ,  5031.26955 ,  2352.96845 ,\n",
       "        2322.6218  ,  1731.677   ,  5227.98875 ,  2534.39375 ,\n",
       "        8062.764   ,  7441.053   ,  9290.1395  ,  5693.4305  ,\n",
       "        1149.3959  , 12574.049   ,  8442.667   ,  5966.8874  ,\n",
       "        4518.82625 ,  3292.52985 ,  2709.1119  ,  2304.0022  ,\n",
       "       11015.1747  , 12950.0712  ,  7243.8136  ,  6748.5912  ,\n",
       "       14043.4767  ,  7986.47525 ,  4149.736   ,  1728.897   ,\n",
       "        2523.1695  , 18648.4217  ,  4005.4225  , 11576.13    ,\n",
       "        6198.7518  ,  3554.203   ,  9101.798   ,  9182.17    ,\n",
       "        9800.8882  ,  8871.1517  ,  3761.292   ,  3925.7582  ,\n",
       "        8944.1151  , 13974.45555 ,  6112.35295 , 13405.3903  ,\n",
       "       11085.5868  ,  7518.02535 , 17361.7661  ,  9877.6077  ,\n",
       "        9377.9047  ,  5267.81815 , 14394.5579  ,  6653.7886  ,\n",
       "        5972.378   , 20462.99766 ,  2117.33885 ,  3561.8889  ,\n",
       "        3756.6216  ,  3208.787   ,  9386.1613  , 12094.478   ,\n",
       "        6373.55735 ,  8798.593   , 19444.2658  ,  6059.173   ,\n",
       "        1744.465   ,  4320.41085 ,  1242.26    , 12957.118   ,\n",
       "        3732.6251  , 14455.64405 , 13919.8229  , 10560.4917  ,\n",
       "       12124.9924  ,  7419.4779  ,  2200.83085 ,  4571.41305 ,\n",
       "       20420.60465 ,  4438.2634  ,  1712.227   , 15518.18025 ,\n",
       "       11856.4115  ,  3277.161   ,  3981.9768  , 11842.62375 ,\n",
       "        3866.8552  ,  3481.868   ,  4151.0287  ,  9144.565   ,\n",
       "        7639.41745 , 18963.17192 , 20709.02034 ,  7418.522   ,\n",
       "       12925.886   ,  3309.7926  , 11512.405   ,  1826.843   ,\n",
       "       12622.1795  , 13831.1152  , 10977.2063  , 12142.5786  ,\n",
       "       14007.222   ,  4746.344   ,  5709.1644  ,  2150.469   ,\n",
       "        5615.369   , 11840.77505 , 20177.67113 ,  4536.259   ,\n",
       "       14133.03775 , 11356.6609  , 11289.10925 ,  5312.16985 ,\n",
       "       15019.76005 ,  6389.37785 , 11488.31695 , 13393.756   ,\n",
       "        1967.0227  ,  6313.759   , 12430.95335 ,  6250.435   ,\n",
       "        2166.732   ,  1748.774   , 15817.9857  ,  1725.5523  ,\n",
       "        4931.647   ,  2775.19215 ,  3077.0955  ,  4687.797   ,\n",
       "        8269.044   , 12646.207   ,  4949.7587  , 20149.3229  ,\n",
       "       10825.2537  ,  1759.338   ,  1141.4451  ,  5488.262   ,\n",
       "       18955.22017 , 16232.847   ,  4076.497   ,  7348.142   ,\n",
       "        1743.214   , 11848.141   ,  4399.731   , 21195.818   ,\n",
       "       10381.4787  ,  2331.519   , 12347.172   , 13429.0354  ,\n",
       "        8116.68    ,  9788.8659  ,  5969.723   ,  1263.249   ,\n",
       "        6496.886   ,  5708.867   , 11743.299   ,  3046.062   ,\n",
       "       13012.20865 ,  9193.8385  ,  4040.55825 ,  5138.2567  ,\n",
       "        7633.7206  , 15612.19335 , 11833.7823  , 17128.42608 ,\n",
       "       16085.1275  ,  6849.026   ,  5425.02335 ,  2302.3     ,\n",
       "        7050.0213  ,  1719.4363  ,  8547.6913  ,  6799.458   ,\n",
       "        4504.6624  ,  3176.8159  ,  8342.90875 ,  3353.284   ,\n",
       "       19040.876   ,  9174.13565 , 11657.7189  , 11353.2276  ,\n",
       "       12479.70895 ,  7985.815   ,  1635.73365 , 13616.3586  ,\n",
       "        6455.86265 ,  3877.30425 ,  7731.4271  , 10797.3362  ,\n",
       "        9704.66805 , 18157.876   ,  6338.0756  ,  3704.3545  ,\n",
       "        2404.7338  ,  8551.347   ,  8538.28845 , 20878.78443 ,\n",
       "       12269.68865 , 11830.6072  ,  5438.7491  ,  9500.57305 ,\n",
       "       20009.63365 ,  7325.0482  ,  1977.815   , 10600.5483  ,\n",
       "        4462.7218  ,  1986.9334  ,  4350.5144  , 10269.46    ,\n",
       "        3392.3652  ,  4889.0368  ,  6551.7501  , 11658.37915 ,\n",
       "        7804.1605  , 10602.385   ,  9715.841   ,  6933.24225 ,\n",
       "        1241.565   ,  3227.1211  , 16069.08475 , 10197.7722  ,\n",
       "        2138.0707  ,  5976.8311  ,  5354.07465 ,  5266.3656  ,\n",
       "        5934.3798  ,  3443.064   ,  3213.62205 ,  5926.846   ,\n",
       "       16796.41194 ,  5253.524   ,  8520.026   ,  4454.40265 ,\n",
       "        5385.3379  , 11093.6229  , 18804.7524  , 11299.343   ,\n",
       "       11520.09985 , 19214.70553 , 11187.6567  ,  7160.3303  ,\n",
       "       12146.971   , 21774.32215 ,  2020.5523  ,  4738.2682  ,\n",
       "       15555.18875 ,  6858.4796  ,  1981.5819  ,  2632.992   ,\n",
       "        8522.003   ,  1702.4553  ,  6196.448   ,  9361.3268  ,\n",
       "        8539.671   , 13937.6665  ,  5974.3847  , 18806.14547 ,\n",
       "        2156.7518  ,  6610.1097  ,  2639.0429  , 11082.5772  ,\n",
       "        9625.92    ,  3500.6123  ,  7323.734819, 12730.9996  ,\n",
       "       11842.442   , 10923.9332  ,  8534.6718  , 18310.742   ,\n",
       "        6079.6715  ,  8556.907   ,  7421.19455 ,  8527.532   ,\n",
       "       13635.6379  ,  5478.0368  , 10806.839   ,  2416.955   ,\n",
       "        4433.9159  ,  8823.98575 ,  1917.3184  , 10594.2257  ,\n",
       "        2755.02095 , 12523.6048  , 10435.06525 ,  7371.772   ,\n",
       "       21880.82    ,  1631.8212  , 12244.531   ,  5325.651   ,\n",
       "       18259.216   ,  2201.0971  , 12233.828   ,  3594.17085 ,\n",
       "       13607.36875 , 14394.39815 , 10422.91665 , 11729.6795  ,\n",
       "        7144.86265 , 11658.11505 , 12485.8009  ,  8671.19125 ,\n",
       "        2730.10785 , 13462.52    ,  6128.79745 ,  1727.785   ,\n",
       "        3471.4096  , 10141.1362  ,  3989.841   ,  8515.7587  ,\n",
       "        1969.614   ,  4260.744   ,  4718.20355 , 13352.0998  ,\n",
       "        7201.70085 , 10043.249   , 14478.33015 ,  2473.3341  ,\n",
       "        2690.1138  , 17929.30337 ,  6184.2994  ,  1261.442   ,\n",
       "        2203.73595 , 12741.16745 , 12644.589   ,  5148.5526  ,\n",
       "        1877.9294  ,  7443.64305 ,  9778.3472  ,  8605.3615  ,\n",
       "        4243.59005 , 13822.803   ,  3693.428   ,  5979.731   ,\n",
       "       11552.904   , 19199.944   ,  6406.4107  ,  4463.2051  ,\n",
       "        9863.4718  ,  9644.2525  ,  1972.95    , 10072.05505 ,\n",
       "        6238.298   ,  2211.13075 ,  5124.1887  ,  7265.7025  ,\n",
       "        7256.7231  ,  2904.088   , 13725.47184 ,  2480.9791  ,\n",
       "        7153.5539  ,  7147.105   ,  1628.4709  , 10942.13205 ,\n",
       "        2205.9808  ,  2396.0959  ,  1625.43375 ,  2597.779   ,\n",
       "        1737.376   ,  1964.78    , 12913.9924  , 11879.10405 ,\n",
       "       11073.176   , 13844.7972  , 14988.432   ,  8027.968   ,\n",
       "        3176.2877  , 10601.412   ,  6948.7008  ,  8688.85885 ,\n",
       "       11033.6617  ,  2721.3208  , 11365.952   , 19964.7463  ,\n",
       "        6117.4945  ,  9249.4952  ,  5080.096   ,  3579.8287  ,\n",
       "        4618.0799  , 12629.8967  ,  1135.9407  ,  4830.63    ,\n",
       "        9288.0267  ,  5469.0066  ,  1769.53165 , 20296.86345 ,\n",
       "       13019.16105 , 10702.6424  ,  8733.22925 ,  6875.961   ,\n",
       "       17626.23951 ,  5272.1758  ,  1694.7964  ,  2867.1196  ,\n",
       "        9991.03765 ,  6282.235   , 10577.087   ,  9855.1314  ,\n",
       "        5428.7277  ,  6186.127   , 17081.08    , 11534.87265 ,\n",
       "        3987.926   , 11946.6259  ,  1842.519   ,  4795.6568  ,\n",
       "       13224.05705 , 11436.73815 , 11411.685   , 19350.3689  ,\n",
       "        3366.6697  ,  9264.797   ,  3537.703   , 18608.262   ,\n",
       "       20167.33603 ,  6985.50695 , 19798.05455 , 17560.37975 ,\n",
       "       14283.4594  ,  2154.361   ,  5649.715   , 17942.106   ,\n",
       "       17663.1442  , 20277.80751 ,  7045.499   , 13844.506   ,\n",
       "       11013.7119  ,  6500.2359  ,  1631.6683  ,  7729.64575 ,\n",
       "        6664.68595 ,  8302.53565 ,  1708.92575 , 18765.87545 ,\n",
       "       14692.66935 ,  8930.93455 ,  2020.177   ,  8310.83915 ,\n",
       "        6555.07035 , 10928.849   ,  2803.69785 , 14410.9321  ,\n",
       "        1984.4533  , 18767.7377  , 14426.07385 ,  2498.4144  ,\n",
       "       11150.78    , 13063.883   ,  7337.748   ,  1906.35825 ,\n",
       "        7624.63    ,  1633.0444  , 21677.28345 ,  9301.89355 ,\n",
       "       10461.9794  , 11674.13    , 14571.8908  ,  7726.854   ,\n",
       "       10796.35025 , 19673.33573 ,  4433.3877  ,  2130.6759  ,\n",
       "        1980.07    ,  8283.6807  ,  6710.1919  ,  8219.2039  ,\n",
       "        7682.67    ,  1526.312   ,  4719.73655 ,  8964.06055 ,\n",
       "        7160.094   ,  6358.77645 ,  1633.9618  , 13112.6048  ,\n",
       "        3861.20965 ,  8835.26495 ,  2219.4451  , 17178.6824  ,\n",
       "        1837.2819  ,  2689.4954  ,  9048.0273  , 15828.82173 ,\n",
       "        1909.52745 ,  2585.85065 ,  2842.76075 , 12629.1656  ,\n",
       "        8988.15875 ,  4544.2348  ,  5846.9176  , 14235.072   ,\n",
       "        4915.05985 ,  2719.27975 , 13747.87235 ,  8891.1395  ,\n",
       "       20745.9891  ,  9866.30485 ,  5757.41345 ,  1815.8759  ,\n",
       "        9447.3824  ,  1832.094   , 12222.8983  ,  8068.185   ,\n",
       "        9304.7019  , 12648.7034  ,  2104.1134  ,  4435.0942  ,\n",
       "        2250.8352  , 13228.84695 ,  9634.538   ,  3044.2133  ,\n",
       "        3260.199   ,  4234.927   , 10959.33    , 12609.88702 ,\n",
       "        1256.299   ,  8211.1002  ,  7077.1894  , 11881.9696  ,\n",
       "       10226.2842  ,  2026.9741  ,  4747.0529  ,  4673.3922  ,\n",
       "       12829.4551  ,  7537.1639  ,  2899.48935 , 14901.5167  ,\n",
       "        9487.6442  , 12475.3513  ,  5729.0053  , 11286.5387  ,\n",
       "        3268.84665 ,  1646.4297  ,  7935.29115 , 18246.4955  ,\n",
       "       13451.122   ,  2196.4732  , 13470.8044  ,  9282.4806  ,\n",
       "       10713.644   ,  2585.269   ,  7281.5056  , 10436.096   ,\n",
       "        5484.4673  ,  3171.6149  , 10736.87075 ,  7196.867   ,\n",
       "       12231.6136  ,  6770.1925  ,  3161.454   ,  5594.8455  ,\n",
       "        2709.24395 , 16138.76205 ,  2254.7967  ,  4340.4409  ,\n",
       "       10450.552   ,  1704.5681  ,  5028.1466  ,  7526.70645 ,\n",
       "        2457.21115 , 11931.12525 ,  9850.432   ,  7512.267   ,\n",
       "        4889.9995  , 10065.413   ,  8413.46305 ,  1720.3537  ,\n",
       "       11070.535   ,  5836.5204  ,  4877.98105 ,  6940.90985 ,\n",
       "        4837.5823  ,  3206.49135 , 21797.0004  , 12890.05765 ,\n",
       "        1837.237   ,  7173.35995 ,  1634.5734  ,  2483.736   ,\n",
       "        1621.8827  ,  6356.2707  ,  9222.4026  , 17496.306   ,\n",
       "        2680.9493  ,  7209.4918  , 13143.86485 , 13217.0945  ,\n",
       "       16297.846   , 11396.9002  , 11741.726   ,  6746.7425  ,\n",
       "       13770.0979  , 18223.4512  , 10085.846   ,  6775.961   ,\n",
       "       19023.26    , 21223.6758  , 18838.70366 ,  5472.449   ,\n",
       "       10106.13425 ,  9414.92    ,  7626.993   ,  9283.562   ,\n",
       "        3393.35635 ,  4347.02335 , 11244.3769  , 16450.8947  ,\n",
       "       10982.5013  ,  6360.9936  ,  4500.33925 ,  1137.011   ,\n",
       "        6474.013   ,  4667.60765 ,  4032.2407  ,  3410.324   ,\n",
       "        5152.134   ,  8280.6227  ,  4529.477   ,  1708.0014  ,\n",
       "        4719.52405 ,  4762.329   ,  4661.28635 ,  8823.279   ,\n",
       "        2974.126   ,  6666.243   ,  9630.397   ,  5699.8375  ,\n",
       "        3490.5491  ,  8347.1643  ,  5327.40025 ,  5257.50795 ,\n",
       "       13041.921   ,  8252.2843  , 10107.2206  ,  2643.2685  ,\n",
       "       10976.24575 ,  4058.1161  ,  4441.21315 ,  4428.88785 ,\n",
       "        7650.77375 , 13457.9608  ,  2128.43105 , 13143.33665 ,\n",
       "        6457.8434  , 14358.36437 ,  5240.765   ,  8410.04685 ,\n",
       "        3994.1778  ,  7046.7222  ,  1875.344   ,  6837.3687  ,\n",
       "        6571.02435 ,  4922.9159  ,  7749.1564  ,  1682.597   ,\n",
       "       11944.59435 , 20234.85475 ,  1627.28245 ,  1136.3994  ,\n",
       "        4449.462   ,  3378.91    ,  6123.5688  ,  4415.1588  ,\n",
       "       12268.63225 ,  7640.3092  ,  6686.4313  ,  7152.6714  ,\n",
       "        4402.233   ,  4779.6023  , 16455.70785 ,  5245.2269  ,\n",
       "       14382.70905 , 12265.5069  , 10338.9316  , 12495.29085 ,\n",
       "        3972.9247  , 14119.62    , 21771.3423  , 19539.243   ,\n",
       "        2362.22905 ,  3766.8838  ,  9910.35985 ,  7261.741   ,\n",
       "        7228.21565 , 14313.8463  , 12797.20962 ,  8782.469   ,\n",
       "       10704.47    ,  9722.7695  ,  5383.536   ,  8978.1851  ,\n",
       "        7954.517   , 20781.48892 ,  2203.47185 ,  7448.40395 ,\n",
       "       13470.86    ,  4133.64165 ,  5989.52365 ,  4357.04365 ,\n",
       "        7623.518   ,  9566.9909  ,  3385.39915 ,  2699.56835 ,\n",
       "       10848.1343  ,  4827.90495 , 10601.63225 ,  1391.5287  ,\n",
       "        9617.66245 , 17043.3414  ,  3597.596   ,  8965.79575 ,\n",
       "        6571.544   ,  8017.06115 ,  9620.3307  ,  8615.3     ,\n",
       "       21098.55405 ,  6877.9801  , 10214.636   ,  2045.68525 ,\n",
       "        1639.5631  ,  7050.642   ,  8124.4084  ,  3736.4647  ,\n",
       "       18903.49141 ,  1252.407   , 12224.35085 ,  9447.25035 ,\n",
       "       10579.711   ,  5630.45785 ,  5458.04645 , 19361.9988  ,\n",
       "       17748.5062  ,  4670.64    , 13224.693   ,  2198.18985 ,\n",
       "       12638.195   , 12044.342   ,  8457.818   ,  8233.0975  ,\n",
       "       17352.6803  , 14449.8544  ,  6414.178   , 10791.96    ,\n",
       "       12404.8791  , 14349.8544  ,  1534.3045  , 13430.265   ,\n",
       "        6393.60345 , 12323.936   , 13880.949   ])"
      ]
     },
     "execution_count": 174,
     "metadata": {},
     "output_type": "execute_result"
    }
   ],
   "source": [
    "np.array(y_test)"
   ]
  },
  {
   "cell_type": "code",
   "execution_count": 175,
   "id": "mBn62KZUXibl",
   "metadata": {
    "id": "mBn62KZUXibl"
   },
   "outputs": [],
   "source": [
    "from sklearn.metrics import mean_squared_error\n",
    "from sklearn.metrics import r2_score"
   ]
  },
  {
   "cell_type": "markdown",
   "id": "XXPYrdjaYofn",
   "metadata": {
    "id": "XXPYrdjaYofn"
   },
   "source": [
    "###MSE=1/n n∑i=1(yi−y^i)**2"
   ]
  },
  {
   "cell_type": "code",
   "execution_count": 176,
   "id": "k6RViM0gXiem",
   "metadata": {
    "colab": {
     "base_uri": "https://localhost:8080/"
    },
    "id": "k6RViM0gXiem",
    "outputId": "c55a433a-1fdc-47f0-b2d0-1f5c9909a031"
   },
   "outputs": [
    {
     "data": {
      "text/plain": [
       "1417.8062720250625"
      ]
     },
     "execution_count": 176,
     "metadata": {},
     "output_type": "execute_result"
    }
   ],
   "source": [
    "#Returns the mean squared error; we'll take a square root\n",
    "np.sqrt(mean_squared_error(y_test, y_pred))"
   ]
  },
  {
   "cell_type": "code",
   "execution_count": 177,
   "id": "RSDm3U3SXihW",
   "metadata": {
    "colab": {
     "base_uri": "https://localhost:8080/"
    },
    "id": "RSDm3U3SXihW",
    "outputId": "5d868b08-ae2c-4369-dfcb-3b3779cc924c"
   },
   "outputs": [
    {
     "data": {
      "text/plain": [
       "0.9217652033377775"
      ]
     },
     "execution_count": 177,
     "metadata": {},
     "output_type": "execute_result"
    }
   ],
   "source": [
    "#accurcy\n",
    "r_squared = r2_score(y_test, y_pred)\n",
    "r_squared"
   ]
  },
  {
   "cell_type": "code",
   "execution_count": 178,
   "id": "tOXqI9dBXikZ",
   "metadata": {
    "colab": {
     "base_uri": "https://localhost:8080/",
     "height": 451
    },
    "id": "tOXqI9dBXikZ",
    "outputId": "7fff27fa-4b96-45cf-a329-c10cf7687f02"
   },
   "outputs": [
    {
     "data": {
      "image/png": "[encoded data removed]",
      "text/plain": [
       "<Figure size 640x480 with 1 Axes>"
      ]
     },
     "metadata": {},
     "output_type": "display_data"
    }
   ],
   "source": [
    "plt.plot(y_test,'bo')\n",
    "plt.xticks(rotation=90)\n",
    "plt.show()"
   ]
  },
  {
   "cell_type": "code",
   "execution_count": 179,
   "id": "VjJA-z6FXinP",
   "metadata": {
    "colab": {
     "base_uri": "https://localhost:8080/",
     "height": 442
    },
    "id": "VjJA-z6FXinP",
    "outputId": "dfbdddb8-86ec-4c77-ad2e-9d96bf4f1049"
   },
   "outputs": [
    {
     "data": {
      "image/png": "[encoded data removed]",
      "text/plain": [
       "<Figure size 640x480 with 1 Axes>"
      ]
     },
     "metadata": {},
     "output_type": "display_data"
    }
   ],
   "source": [
    "plt.plot(y_pred,'bo')\n",
    "plt.xticks(rotation=90)\n",
    "plt.show()"
   ]
  },
  {
   "cell_type": "code",
   "execution_count": 180,
   "id": "Hm3jXuNDXip5",
   "metadata": {
    "colab": {
     "base_uri": "https://localhost:8080/",
     "height": 581
    },
    "id": "Hm3jXuNDXip5",
    "outputId": "f211a52a-fc72-495e-b7a9-f0d23f84ecbc"
   },
   "outputs": [
    {
     "data": {
      "text/plain": [
       "Text(0, 0.5, 'Predicted Values')"
      ]
     },
     "execution_count": 180,
     "metadata": {},
     "output_type": "execute_result"
    },
    {
     "data": {
      "image/png": "[encoded data removed]",
      "text/plain": [
       "<Figure size 1200x600 with 1 Axes>"
      ]
     },
     "metadata": {},
     "output_type": "display_data"
    }
   ],
   "source": [
    "plt.figure(figsize=(12, 6))\n",
    "\n",
    "# Scatter plot for actual vs. predicted values\n",
    "plt.subplot(1, 2, 1)\n",
    "plt.scatter(y_test, y_pred, color='blue')\n",
    "plt.title('Actual vs. Predicted Values')\n",
    "plt.xlabel('Actual Values')\n",
    "plt.ylabel('Predicted Values')"
   ]
  },
  {
   "cell_type": "code",
   "execution_count": 181,
   "id": "V_hrcxIwXisw",
   "metadata": {
    "colab": {
     "base_uri": "https://localhost:8080/",
     "height": 581
    },
    "id": "V_hrcxIwXisw",
    "outputId": "956887c2-ca60-47be-c217-0ab37557d3da"
   },
   "outputs": [
    {
     "data": {
      "text/plain": [
       "<matplotlib.legend.Legend at 0x78d552ae32e0>"
      ]
     },
     "execution_count": 181,
     "metadata": {},
     "output_type": "execute_result"
    },
    {
     "data": {
      "image/png": "[encoded data removed]",
      "text/plain": [
       "<Figure size 1200x600 with 1 Axes>"
      ]
     },
     "metadata": {},
     "output_type": "display_data"
    }
   ],
   "source": [
    "plt.figure(figsize=(12, 6))\n",
    "plt.title('charges vs charges*3')\n",
    "plt.xlabel('charges*3')\n",
    "plt.ylabel('charges')\n",
    "plt.plot(y_test*3,y_test,label='org')\n",
    "# You can plot to plots using the same axes\n",
    "plt.plot(y_pred*3,y_pred,label='mine')\n",
    "plt.legend()"
   ]
  },
  {
   "cell_type": "code",
   "execution_count": 182,
   "id": "v0F_myBnXivT",
   "metadata": {
    "id": "v0F_myBnXivT"
   },
   "outputs": [],
   "source": [
    "# الحمدلله الذى تتم بنعمته الصالحات"
   ]
  },
  {
   "cell_type": "code",
   "execution_count": 181,
   "id": "cAbjlcnPXiyH",
   "metadata": {
    "id": "cAbjlcnPXiyH"
   },
   "outputs": [],
   "source": []
  },
  {
   "cell_type": "code",
   "execution_count": 181,
   "id": "y50RS82TXi02",
   "metadata": {
    "id": "y50RS82TXi02"
   },
   "outputs": [],
   "source": []
  },
  {
   "cell_type": "code",
   "execution_count": 181,
   "id": "51Jg3ovTXi3Y",
   "metadata": {
    "id": "51Jg3ovTXi3Y"
   },
   "outputs": [],
   "source": []
  },
  {
   "cell_type": "code",
   "execution_count": 181,
   "id": "G9wXe2DQXi59",
   "metadata": {
    "id": "G9wXe2DQXi59"
   },
   "outputs": [],
   "source": []
  },
  {
   "cell_type": "code",
   "execution_count": 181,
   "id": "vxB7PBPQXi9N",
   "metadata": {
    "id": "vxB7PBPQXi9N"
   },
   "outputs": [],
   "source": []
  },
  {
   "cell_type": "code",
   "execution_count": 181,
   "id": "qy6CMTERXjAk",
   "metadata": {
    "id": "qy6CMTERXjAk"
   },
   "outputs": [],
   "source": []
  }
 ],
 "metadata": {
  "colab": {
   "provenance": []
  },
  "kernelspec": {
   "display_name": "Python 3 (ipykernel)",
   "language": "python",
   "name": "python3"
  },
  "language_info": {
   "codemirror_mode": {
    "name": "ipython",
    "version": 3
   },
   "file_extension": ".py",
   "mimetype": "text/x-python",
   "name": "python",
   "nbconvert_exporter": "python",
   "pygments_lexer": "ipython3",
   "version": "3.9.13"
  }
 },
 "nbformat": 4,
 "nbformat_minor": 5
}
